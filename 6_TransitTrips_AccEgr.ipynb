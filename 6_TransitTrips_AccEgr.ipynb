{
 "cells": [
  {
   "cell_type": "code",
   "execution_count": 1,
   "metadata": {},
   "outputs": [],
   "source": [
    "%run ..\\notebooks\\Util_func.ipynb"
   ]
  },
  {
   "cell_type": "code",
   "execution_count": 2,
   "metadata": {},
   "outputs": [],
   "source": [
    "# # Bay Area\n",
    "# REG = 'BayArea'\n",
    "# base_dir = r'Q:\\Data\\Surveys\\HouseholdSurveys\\MTC-SFCTA2018\\Processing_20200228\\2_tour_extract\\wt_wkday'\n",
    "# raw_dir = r'Q:\\Data\\Surveys\\HouseholdSurveys\\MTC-SFCTA2018\\Processing_20200228\\spatial_join'\n",
    "# link_dir = r'Q:\\Data\\Surveys\\HouseholdSurveys\\MTC-SFCTA2018\\Processing_20200228\\1_reformat_survey'\n",
    "\n",
    "# out_file = r'out\\%s_6_TransitTrips_AccEgr.xlsx' %REG"
   ]
  },
  {
   "cell_type": "code",
   "execution_count": 3,
   "metadata": {},
   "outputs": [],
   "source": [
    "# # SANDAG\n",
    "# REG = 'SANDAG'\n",
    "# base_dir = r'Q:\\Data\\Surveys\\HouseholdSurveys\\MTC-SFCTA2018\\SANDAG\\2_tour_extract\\wt_wkday'\n",
    "# raw_dir = r'Q:\\Data\\Surveys\\HouseholdSurveys\\MTC-SFCTA2018\\SANDAG'\n",
    "# link_dir = r'Q:\\Data\\Surveys\\HouseholdSurveys\\MTC-SFCTA2018\\SANDAG\\1_reformat_survey'\n",
    "\n",
    "# out_file = r'out2\\%s_6_TransitTrips_AccEgr.xlsx' %REG"
   ]
  },
  {
   "cell_type": "code",
   "execution_count": 4,
   "metadata": {},
   "outputs": [],
   "source": [
    "# SCAG\n",
    "REG = 'SCAG'\n",
    "base_dir = r'Q:\\Data\\Surveys\\HouseholdSurveys\\MTC-SFCTA2018\\SCAG_dataset_2020-02-27\\2_tour_extract\\wt_wkday'\n",
    "raw_dir = r'Q:\\Data\\Surveys\\HouseholdSurveys\\MTC-SFCTA2018\\SCAG_dataset_2020-02-27'\n",
    "link_dir = r'Q:\\Data\\Surveys\\HouseholdSurveys\\MTC-SFCTA2018\\SCAG_dataset_2020-02-27\\1_reformat_survey'\n",
    "\n",
    "out_file = r'out2\\%s_6_TransitTrips_AccEgr.xlsx' %REG"
   ]
  },
  {
   "cell_type": "code",
   "execution_count": 5,
   "metadata": {},
   "outputs": [
    {
     "name": "stderr",
     "output_type": "stream",
     "text": [
      "C:\\ProgramData\\Anaconda3\\lib\\site-packages\\pandas\\core\\indexing.py:1745: SettingWithCopyWarning: \n",
      "A value is trying to be set on a copy of a slice from a DataFrame.\n",
      "Try using .loc[row_indexer,col_indexer] = value instead\n",
      "\n",
      "See the caveats in the documentation: https://pandas.pydata.org/pandas-docs/stable/user_guide/indexing.html#returning-a-view-versus-a-copy\n",
      "  isetter(ilocs[0], value)\n"
     ]
    }
   ],
   "source": [
    "## Process trip records\n",
    "raw_trips = pd.read_csv(join(raw_dir, 'ex_trip_wZones.csv'))\n",
    "raw_trips = raw_trips[['hh_id','person_num','trip_num','bus_access','bus_egress','rail_access',\n",
    "                      'rail_egress','mode_type_imputed']]\n",
    "raw_trips = raw_trips.rename(columns={'hh_id':'hhno','person_num':'pno','trip_num':'tsvid'})\n",
    "\n",
    "accegr_df = pd.read_csv(join(link_dir, 'accegr_week.csv'))\n",
    "accegr_df = accegr_df[['hhno','pno','tripno','acc_mode','egr_mode']]\n",
    "accegr_df = accegr_df.rename(columns={'tripno':'tsvid'})\n",
    "\n",
    "mode_type_dict = {1:'Walk',2:'Bike',3:'Car',4:'Taxi',5:'Transit',6:'SchBus',7:'Other',8:'ShutVan',9:'TNC',\n",
    "                 10:'Carshr',11:'Bikeshr',12:'Scooshr',13:'Lngdist'}\n",
    "acc_type_dict = {\n",
    "    'Walk':1,'Bike':2,'Car':3,'Taxi':4,'TNC':5,'Carshr':6,'Bikeshr':7,'Scooshr':8,\n",
    "    'ShutVan':9,'Lngdist':10,'Other':11,'Missing':12\n",
    "}\n",
    "\n",
    "SURV_ACC_MODES = list(range(1,8))\n",
    "def map_access(df, col, desc):\n",
    "    df['rpl_flag'] = 0\n",
    "    df.loc[(df[col+'_mode']==5) | (pd.isna(df[col])), 'rpl_flag'] = 1\n",
    "    \n",
    "    df.loc[(df['rpl_flag']==1)  & (~df['rail_'+desc].isin(SURV_ACC_MODES)) & (df['bus_'+desc]==1), col] = 'Walk'\n",
    "    df.loc[(df['rpl_flag']==1)  & (~df['rail_'+desc].isin(SURV_ACC_MODES)) & (df['bus_'+desc]==2), col] = 'Bike'\n",
    "    df.loc[(df['rpl_flag']==1)  & (~df['rail_'+desc].isin(SURV_ACC_MODES)) & (df['bus_'+desc]==3), col] = 'Bikeshr'\n",
    "    df.loc[(df['rpl_flag']==1)  & (~df['rail_'+desc].isin(SURV_ACC_MODES)) & (df['bus_'+desc]==4), col] = 'Scooshr'\n",
    "    df.loc[(df['rpl_flag']==1)  & (~df['rail_'+desc].isin(SURV_ACC_MODES)) & (df['bus_'+desc]==5), col] = 'TNC'\n",
    "    df.loc[(df['rpl_flag']==1)  & (~df['rail_'+desc].isin(SURV_ACC_MODES)) & (df['bus_'+desc]==6), col] = 'Car'\n",
    "    df.loc[(df['rpl_flag']==1)  & (~df['rail_'+desc].isin(SURV_ACC_MODES)) & (df['bus_'+desc]==7), col] = 'Carshr'\n",
    "    \n",
    "    df.loc[(df['rpl_flag']==1)  & (~df['bus_'+desc].isin(SURV_ACC_MODES)) & (df['rail_'+desc]==1), col] = 'Walk'\n",
    "    df.loc[(df['rpl_flag']==1)  & (~df['bus_'+desc].isin(SURV_ACC_MODES)) & (df['rail_'+desc]==2), col] = 'Bike'\n",
    "    df.loc[(df['rpl_flag']==1)  & (~df['bus_'+desc].isin(SURV_ACC_MODES)) & (df['rail_'+desc]==3), col] = 'Bikeshr'\n",
    "    df.loc[(df['rpl_flag']==1)  & (~df['bus_'+desc].isin(SURV_ACC_MODES)) & (df['rail_'+desc]==4), col] = 'Scooshr'\n",
    "    df.loc[(df['rpl_flag']==1)  & (~df['bus_'+desc].isin(SURV_ACC_MODES)) & (df['rail_'+desc]==5), col] = 'TNC'\n",
    "    df.loc[(df['rpl_flag']==1)  & (~df['bus_'+desc].isin(SURV_ACC_MODES)) & (df['rail_'+desc]==6), col] = 'Car'\n",
    "    df.loc[(df['rpl_flag']==1)  & (~df['bus_'+desc].isin(SURV_ACC_MODES)) & (df['rail_'+desc]==7), col] = 'Carshr'\n",
    "    \n",
    "    df.loc[df[col]=='Transit', col] = 'Walk'\n",
    "    df.loc[pd.isna(df[col]), col] = 'Missing'\n",
    "    return df\n",
    "\n",
    "def prep_df(trip_dir):\n",
    "    df = pd.read_csv(join(trip_dir,'survey2018_tripx.dat'), sep=' ')\n",
    "    df = link_dt(df)\n",
    "    df = df.loc[df['mode'].isin([6,7]),]\n",
    "    df = df[df['trexpfac']>0]\n",
    "    df = df[(df['otaz']>0) & (df['dtaz']>0)]\n",
    "    \n",
    "    df = df.merge(raw_trips, how='left')\n",
    "    df = df.merge(accegr_df, how='left')\n",
    "    \n",
    "    df['acc'] = df['acc_mode'].map(mode_type_dict)\n",
    "    df = map_access(df, 'acc', 'access')\n",
    "    \n",
    "    df['egr'] = df['egr_mode'].map(mode_type_dict)\n",
    "    df = map_access(df, 'egr', 'egress')\n",
    "    \n",
    "    df['acc_egr'] = df['acc'] + '_' + df['egr']\n",
    "    \n",
    "    df['acc_type'] = df['acc'].map(acc_type_dict)\n",
    "    df['egr_type'] = df['egr'].map(acc_type_dict)\n",
    "\n",
    "    df['count'] = 1\n",
    "    return df\n",
    "\n",
    "trip_df = prep_df(base_dir)"
   ]
  },
  {
   "cell_type": "code",
   "execution_count": 6,
   "metadata": {},
   "outputs": [],
   "source": [
    "col_dict = {\n",
    "    'acc_type': {\n",
    "        'desc': 'Acess',\n",
    "        'col': 'acc_type',\n",
    "        'vals': list(range(1,11)) + [12],\n",
    "        'labels': ['10_Walk','11_Bike','12_Car','13_Taxi','14_TNC','15_Carshr','16_Bikeshr','17_Scooshr',\n",
    "                   '18_ShuVan','19_Lngdist','20_Missing']\n",
    "    },\n",
    "    'egr_type': {\n",
    "        'desc': 'Egress',\n",
    "        'col': 'egr_type',\n",
    "        'vals': list(range(1,11)) + [12],\n",
    "        'labels': ['10_Walk','11_Bike','12_Car','13_Taxi','14_TNC','15_Carshr','16_Bikeshr','17_Scooshr',\n",
    "                   '18_ShuVan','19_Lngdist','20_Missing']\n",
    "    }\n",
    "}"
   ]
  },
  {
   "cell_type": "code",
   "execution_count": 7,
   "metadata": {},
   "outputs": [],
   "source": [
    "fname = out_file\n",
    "writer = pd.ExcelWriter(fname, engine='xlsxwriter')\n",
    "workbook = writer.book\n",
    "format1 = workbook.add_format({'num_format': '#,##0.0'})"
   ]
  },
  {
   "cell_type": "code",
   "execution_count": 8,
   "metadata": {},
   "outputs": [],
   "source": [
    "from xlsxwriter.utility import xl_rowcol_to_cell\n",
    "\n",
    "wt_cols = ['count', 'trexpfac']\n",
    "wt_desc = ['(Unweighted)', '(Weighted)']\n",
    "\n",
    "d1_dict = col_dict['acc_type']\n",
    "d2_dict = col_dict['egr_type']\n",
    "\n",
    "row = 0\n",
    "sname = 'Weekday'\n",
    "\n",
    "for wc, wd in zip(wt_cols, wt_desc):\n",
    "    title = 'Transit Trips by ' + d2_dict['desc'] + ' and ' + d1_dict['desc'] + ' ' + wd\n",
    "    tab, tab_fmt = prep_data_2d(trip_df,d1_dict['col'],d1_dict['vals'],d1_dict['labels'],\n",
    "                            d2_dict['col'],d2_dict['vals'],d2_dict['labels'],wc)\n",
    "    row = write_to_excel(tab.astype('float64'), sname, title, row)\n",
    "\n",
    "    if wc == 'count':\n",
    "        tab2 = tab.copy()\n",
    "    else:\n",
    "        tab2.iloc[:-1,:-1] = tab.iloc[:-1,:-1]\n",
    "\n",
    "    title = 'Column Shares by ' + d2_dict['desc'] + ' and ' + d1_dict['desc'] + ' ' + wd\n",
    "    row = write_to_excel(getSharesIdx(tab.copy()), sname, title, row)\n",
    "\n",
    "    title = 'Column Shares 95% CI by ' + d2_dict['desc'] + ' and ' + d1_dict['desc'] + ' ' + wd\n",
    "    row = write_to_excel(getSharesIdxCI95(tab2.copy()), sname, title, row)\n",
    "tab_range = xl_rowcol_to_cell(row,1) + ':' + xl_rowcol_to_cell(row,tab.shape[1])\n",
    "_ = writer.sheets[sname].set_column(tab_range, 11, format1)"
   ]
  },
  {
   "cell_type": "code",
   "execution_count": 9,
   "metadata": {},
   "outputs": [],
   "source": [
    "writer.save()"
   ]
  }
 ],
 "metadata": {
  "kernelspec": {
   "display_name": "Python 3",
   "language": "python",
   "name": "python3"
  },
  "language_info": {
   "codemirror_mode": {
    "name": "ipython",
    "version": 3
   },
   "file_extension": ".py",
   "mimetype": "text/x-python",
   "name": "python",
   "nbconvert_exporter": "python",
   "pygments_lexer": "ipython3",
   "version": "3.7.6"
  }
 },
 "nbformat": 4,
 "nbformat_minor": 4
}
