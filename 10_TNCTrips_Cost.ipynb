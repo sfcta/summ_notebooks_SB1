{
 "cells": [
  {
   "cell_type": "code",
   "execution_count": 1,
   "metadata": {},
   "outputs": [],
   "source": [
    "%run ..\\notebooks\\Util_func.ipynb"
   ]
  },
  {
   "cell_type": "code",
   "execution_count": 2,
   "metadata": {},
   "outputs": [],
   "source": [
    "# # Bay Area\n",
    "# REG = 'BayArea'\n",
    "# base_dir = r'Q:\\Data\\Surveys\\HouseholdSurveys\\MTC-SFCTA2018\\Processing_20200228\\2_tour_extract\\wt_wkday'\n",
    "# raw_dir = r'Q:\\Data\\Surveys\\HouseholdSurveys\\MTC-SFCTA2018\\Processing_20200228\\spatial_join'\n",
    "\n",
    "# out_file = r'out\\%s_10_TNCTrips_Cost.xlsx' %REG"
   ]
  },
  {
   "cell_type": "code",
   "execution_count": 3,
   "metadata": {},
   "outputs": [],
   "source": [
    "# # SANDAG\n",
    "# REG = 'SANDAG'\n",
    "# base_dir = r'Q:\\Data\\Surveys\\HouseholdSurveys\\MTC-SFCTA2018\\SANDAG\\2_tour_extract\\wt_wkday'\n",
    "# raw_dir = r'Q:\\Data\\Surveys\\HouseholdSurveys\\MTC-SFCTA2018\\SANDAG'\n",
    "\n",
    "# out_file = r'out2\\%s_10_TNCTrips_Cost.xlsx' %REG"
   ]
  },
  {
   "cell_type": "code",
   "execution_count": 4,
   "metadata": {},
   "outputs": [],
   "source": [
    "# SCAG\n",
    "REG = 'SCAG'\n",
    "base_dir = r'Q:\\Data\\Surveys\\HouseholdSurveys\\MTC-SFCTA2018\\SCAG_dataset_2020-02-27\\2_tour_extract\\wt_wkday'\n",
    "raw_dir = r'Q:\\Data\\Surveys\\HouseholdSurveys\\MTC-SFCTA2018\\SCAG_dataset_2020-02-27'\n",
    "\n",
    "out_file = r'out2\\%s_10_TNCTrips_Cost.xlsx' %REG"
   ]
  },
  {
   "cell_type": "code",
   "execution_count": 5,
   "metadata": {},
   "outputs": [
    {
     "name": "stderr",
     "output_type": "stream",
     "text": [
      "C:\\ProgramData\\Anaconda3\\lib\\site-packages\\pandas\\core\\indexing.py:1745: SettingWithCopyWarning: \n",
      "A value is trying to be set on a copy of a slice from a DataFrame.\n",
      "Try using .loc[row_indexer,col_indexer] = value instead\n",
      "\n",
      "See the caveats in the documentation: https://pandas.pydata.org/pandas-docs/stable/user_guide/indexing.html#returning-a-view-versus-a-copy\n",
      "  isetter(ilocs[0], value)\n"
     ]
    }
   ],
   "source": [
    "## Process person records\n",
    "tmp_df = pd.read_csv(join(raw_dir, 'ex_person_wZones.csv'))\n",
    "if REG=='SANDAG' or REG=='SCAG':\n",
    "    tmp_df2 = pd.read_csv(join(raw_dir, 'ex2_person.tsv'), sep='\\t')\n",
    "    tmp_df = tmp_df.merge(tmp_df2[['hh_id','person_id','raceeth_new_imputed']], how='left')\n",
    "tmp_df = tmp_df[['hh_id','person_num','raceeth_new_imputed','income_imputed','gender','age']]\n",
    "tmp_df = tmp_df.rename(columns={'raceeth_new_imputed':'raceeth','income_imputed':'hinc'})\n",
    "tmp_df = tmp_df.rename(columns={'hh_id':'hhno','person_num':'pno'})\n",
    "\n",
    "per_df = pd.read_csv(join(base_dir,'survey2018_precx.dat'), sep=' ') \n",
    "per_df = per_df.merge(tmp_df, how='left')\n",
    "\n",
    "## Process trip records\n",
    "raw_trips = pd.read_csv(join(raw_dir, 'ex_trip_wZones.csv'))\n",
    "raw_trips = raw_trips[['hh_id','person_num','trip_num','taxi_cost','mode_uber','mode_lyft','mode_type_imputed']]\n",
    "raw_trips = raw_trips.rename(columns={'hh_id':'hhno','person_num':'pno','trip_num':'tsvid'})\n",
    "\n",
    "trip_df = pd.read_csv(join(base_dir,'survey2018_tripx.dat'), sep=' ')\n",
    "trip_df = link_dt(trip_df)\n",
    "trip_df = trip_df.loc[trip_df['mode']==9, ]\n",
    "trip_df = trip_df.merge(raw_trips, how='left')\n",
    "trip_df = trip_df[trip_df['mode_type_imputed']!=4] #remove taxi trips\n",
    "\n",
    "trip_df['tnc_type'] = 3 # prem/other\n",
    "trip_df.loc[(trip_df['mode_uber']==1) | (trip_df['mode_lyft']==1), 'tnc_type'] = 1 # pooled\n",
    "trip_df.loc[(trip_df['mode_uber']==2) | (trip_df['mode_lyft']==2), 'tnc_type'] = 2 # regular\n",
    "\n",
    "trip_df = trip_df.merge(per_df[['hhno','pno','raceeth','hinc','gender','age']], \n",
    "                        how='left', on=['hhno','pno'])\n",
    "trip_df.loc[trip_df['gender']==997, 'gender'] = 5 #Other\n",
    "trip_df.loc[trip_df['gender']==999, 'gender'] = 6 #NoAnswer\n",
    "trip_df.loc[trip_df['gender'].isin([-9998, 995]), 'gender'] = 6 #Missing\n",
    "\n",
    "trip_df = trip_df[(trip_df['trexpfac']>0)]\n",
    "trip_df = trip_df[(trip_df['otaz']>0) & (trip_df['dtaz']>0)]\n",
    "trip_df['count'] = 1\n",
    "trip_df = trip_df[(trip_df['taxi_cost']>0)]"
   ]
  },
  {
   "cell_type": "code",
   "execution_count": 6,
   "metadata": {},
   "outputs": [],
   "source": [
    "col_dict = {\n",
    "    'raceeth': {\n",
    "        'desc': 'RaceEth',\n",
    "        'col': 'raceeth',\n",
    "        'vals': range(1,6),\n",
    "        'labels': ['1_Hispanic','2_Black','3_Asian/PI','4_White','5_Other']\n",
    "    },\n",
    "    'hinc': {\n",
    "        'desc': 'HHInc',\n",
    "        'col': 'hinc',\n",
    "        'vals': range(1,9),\n",
    "        'labels': ['1_25K','2_25_50K','3_50_75K','4_75_100K','5_100_150K','6_150_200K','7_200_250K','8_250K']\n",
    "    },\n",
    "    'age': {\n",
    "        'desc': 'Age',\n",
    "        'col': 'age',\n",
    "        'vals': range(4,11),\n",
    "        'labels': ['18-24','25-34','35-44','45-54','55-64','65-74','75+']\n",
    "    },\n",
    "    'gender': {\n",
    "        'desc': 'Gend',\n",
    "        'col': 'gender',\n",
    "        'vals': range(1,7),\n",
    "        'labels': ['1_F','2_M','3_Trns','4_NBin','5_Oth','6_Miss']\n",
    "    },\n",
    "    'tnc_freq': {\n",
    "        'desc': 'TNCFreq',\n",
    "        'col': 'tnc_freq',\n",
    "        'vals': list(range(1,8)) + [995],\n",
    "        'labels': ['1_6-7dpwk','2_5dpwk','3_4dpwk','4_2-3dpwk','5_1dpwk','6_1-3dpmo','7_0-1dpmo','8_Never']\n",
    "    },\n",
    "    'tncmode': {\n",
    "        'desc': 'TNCMode',\n",
    "        'col': 'tnc_type',\n",
    "        'vals': range(1,4),\n",
    "        'labels': ['2_Pool','1_Reg','3_PremOth']\n",
    "    }\n",
    "}"
   ]
  },
  {
   "cell_type": "code",
   "execution_count": 7,
   "metadata": {},
   "outputs": [],
   "source": [
    "agg_col = 'taxi_cost'\n",
    "def agg_tnc(df, colname, cat_levels, cat_labels):\n",
    "    cat_levels = list(cat_levels) + ['All']\n",
    "    cat_labels = cat_labels + ['All']\n",
    "    base_df = pd.DataFrame({'cat_labels': cat_labels, colname: cat_levels})\n",
    "    \n",
    "    df = df[[colname,'count','trexpfac',agg_col]]\n",
    "    df['wtd_trips'] = df['count']*df['trexpfac']\n",
    "    df['wtd_metric'] = df[agg_col]*df['trexpfac']\n",
    "    df = pd.DataFrame(pd.pivot_table(df, index=colname, margins=True, aggfunc=np.sum)).reset_index()\n",
    "    df = base_df.merge(df, how='left')\n",
    "    df = df.fillna(0)\n",
    "    df['sample_avg'] = df[agg_col]/df['count']\n",
    "    df['wtd_avg'] = df['wtd_metric']/df['wtd_trips']\n",
    "    \n",
    "    df = df.drop([colname], axis=1)\n",
    "    df = df.rename(columns={'cat_labels':colname})\n",
    "    df = df[[colname,'sample_avg','wtd_avg']].set_index(colname)\n",
    "    return df"
   ]
  },
  {
   "cell_type": "code",
   "execution_count": 8,
   "metadata": {},
   "outputs": [],
   "source": [
    "fname = out_file\n",
    "writer = pd.ExcelWriter(fname, engine='xlsxwriter')\n",
    "workbook = writer.book\n",
    "format1 = workbook.add_format({'num_format': '#,##0.0'})"
   ]
  },
  {
   "cell_type": "code",
   "execution_count": 9,
   "metadata": {},
   "outputs": [
    {
     "name": "stderr",
     "output_type": "stream",
     "text": [
      "C:\\ProgramData\\Anaconda3\\lib\\site-packages\\ipykernel_launcher.py:8: SettingWithCopyWarning: \n",
      "A value is trying to be set on a copy of a slice from a DataFrame.\n",
      "Try using .loc[row_indexer,col_indexer] = value instead\n",
      "\n",
      "See the caveats in the documentation: https://pandas.pydata.org/pandas-docs/stable/user_guide/indexing.html#returning-a-view-versus-a-copy\n",
      "  \n",
      "C:\\ProgramData\\Anaconda3\\lib\\site-packages\\ipykernel_launcher.py:9: SettingWithCopyWarning: \n",
      "A value is trying to be set on a copy of a slice from a DataFrame.\n",
      "Try using .loc[row_indexer,col_indexer] = value instead\n",
      "\n",
      "See the caveats in the documentation: https://pandas.pydata.org/pandas-docs/stable/user_guide/indexing.html#returning-a-view-versus-a-copy\n",
      "  if __name__ == '__main__':\n",
      "C:\\ProgramData\\Anaconda3\\lib\\site-packages\\ipykernel_launcher.py:8: SettingWithCopyWarning: \n",
      "A value is trying to be set on a copy of a slice from a DataFrame.\n",
      "Try using .loc[row_indexer,col_indexer] = value instead\n",
      "\n",
      "See the caveats in the documentation: https://pandas.pydata.org/pandas-docs/stable/user_guide/indexing.html#returning-a-view-versus-a-copy\n",
      "  \n",
      "C:\\ProgramData\\Anaconda3\\lib\\site-packages\\ipykernel_launcher.py:9: SettingWithCopyWarning: \n",
      "A value is trying to be set on a copy of a slice from a DataFrame.\n",
      "Try using .loc[row_indexer,col_indexer] = value instead\n",
      "\n",
      "See the caveats in the documentation: https://pandas.pydata.org/pandas-docs/stable/user_guide/indexing.html#returning-a-view-versus-a-copy\n",
      "  if __name__ == '__main__':\n",
      "C:\\ProgramData\\Anaconda3\\lib\\site-packages\\ipykernel_launcher.py:8: SettingWithCopyWarning: \n",
      "A value is trying to be set on a copy of a slice from a DataFrame.\n",
      "Try using .loc[row_indexer,col_indexer] = value instead\n",
      "\n",
      "See the caveats in the documentation: https://pandas.pydata.org/pandas-docs/stable/user_guide/indexing.html#returning-a-view-versus-a-copy\n",
      "  \n",
      "C:\\ProgramData\\Anaconda3\\lib\\site-packages\\ipykernel_launcher.py:9: SettingWithCopyWarning: \n",
      "A value is trying to be set on a copy of a slice from a DataFrame.\n",
      "Try using .loc[row_indexer,col_indexer] = value instead\n",
      "\n",
      "See the caveats in the documentation: https://pandas.pydata.org/pandas-docs/stable/user_guide/indexing.html#returning-a-view-versus-a-copy\n",
      "  if __name__ == '__main__':\n",
      "C:\\ProgramData\\Anaconda3\\lib\\site-packages\\ipykernel_launcher.py:8: SettingWithCopyWarning: \n",
      "A value is trying to be set on a copy of a slice from a DataFrame.\n",
      "Try using .loc[row_indexer,col_indexer] = value instead\n",
      "\n",
      "See the caveats in the documentation: https://pandas.pydata.org/pandas-docs/stable/user_guide/indexing.html#returning-a-view-versus-a-copy\n",
      "  \n",
      "C:\\ProgramData\\Anaconda3\\lib\\site-packages\\ipykernel_launcher.py:9: SettingWithCopyWarning: \n",
      "A value is trying to be set on a copy of a slice from a DataFrame.\n",
      "Try using .loc[row_indexer,col_indexer] = value instead\n",
      "\n",
      "See the caveats in the documentation: https://pandas.pydata.org/pandas-docs/stable/user_guide/indexing.html#returning-a-view-versus-a-copy\n",
      "  if __name__ == '__main__':\n",
      "C:\\ProgramData\\Anaconda3\\lib\\site-packages\\ipykernel_launcher.py:8: SettingWithCopyWarning: \n",
      "A value is trying to be set on a copy of a slice from a DataFrame.\n",
      "Try using .loc[row_indexer,col_indexer] = value instead\n",
      "\n",
      "See the caveats in the documentation: https://pandas.pydata.org/pandas-docs/stable/user_guide/indexing.html#returning-a-view-versus-a-copy\n",
      "  \n",
      "C:\\ProgramData\\Anaconda3\\lib\\site-packages\\ipykernel_launcher.py:9: SettingWithCopyWarning: \n",
      "A value is trying to be set on a copy of a slice from a DataFrame.\n",
      "Try using .loc[row_indexer,col_indexer] = value instead\n",
      "\n",
      "See the caveats in the documentation: https://pandas.pydata.org/pandas-docs/stable/user_guide/indexing.html#returning-a-view-versus-a-copy\n",
      "  if __name__ == '__main__':\n"
     ]
    }
   ],
   "source": [
    "from xlsxwriter.utility import xl_rowcol_to_cell\n",
    "\n",
    "PREF = 'Weekday Avg TNC Cost by '\n",
    "for key in ['raceeth', 'hinc', 'age', 'gender', 'tncmode']:\n",
    "    d1_dict = col_dict[key]\n",
    "    row = 0\n",
    "    sname = d1_dict['desc']\n",
    "    title = PREF + d1_dict['desc']\n",
    "    tab = agg_tnc(trip_df, d1_dict['col'], d1_dict['vals'], d1_dict['labels'])\n",
    "    row = write_to_excel(tab, sname, title, row)\n",
    "    \n",
    "    tab_range = xl_rowcol_to_cell(row,1) + ':' + xl_rowcol_to_cell(row,tab.shape[1])\n",
    "    writer.sheets[sname].set_column(tab_range, 18, format1)"
   ]
  },
  {
   "cell_type": "code",
   "execution_count": 10,
   "metadata": {},
   "outputs": [],
   "source": [
    "writer.save()"
   ]
  }
 ],
 "metadata": {
  "kernelspec": {
   "display_name": "Python 3",
   "language": "python",
   "name": "python3"
  },
  "language_info": {
   "codemirror_mode": {
    "name": "ipython",
    "version": 3
   },
   "file_extension": ".py",
   "mimetype": "text/x-python",
   "name": "python",
   "nbconvert_exporter": "python",
   "pygments_lexer": "ipython3",
   "version": "3.7.6"
  }
 },
 "nbformat": 4,
 "nbformat_minor": 4
}
