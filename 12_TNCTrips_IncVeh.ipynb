{
 "cells": [
  {
   "cell_type": "code",
   "execution_count": 1,
   "id": "honest-engineer",
   "metadata": {},
   "outputs": [
    {
     "name": "stderr",
     "output_type": "stream",
     "text": [
      "C:\\ProgramData\\Anaconda3\\lib\\site-packages\\numpy\\_distributor_init.py:32: UserWarning: loaded more than 1 DLL from .libs:\n",
      "C:\\ProgramData\\Anaconda3\\lib\\site-packages\\numpy\\.libs\\libopenblas.PYQHXLVVQ7VESDPUVUADXEVJOBGHJPAY.gfortran-win_amd64.dll\n",
      "C:\\ProgramData\\Anaconda3\\lib\\site-packages\\numpy\\.libs\\libopenblas.WCDJNK7YVMPZQ2ME2ZZHJJRJ3JIKNDB7.gfortran-win_amd64.dll\n",
      "  stacklevel=1)\n"
     ]
    }
   ],
   "source": [
    "%run ..\\notebooks\\Util_func.ipynb"
   ]
  },
  {
   "cell_type": "code",
   "execution_count": 2,
   "id": "usual-sacrifice",
   "metadata": {},
   "outputs": [],
   "source": [
    "# SANDAG\n",
    "REG = 'SANDAG'\n",
    "base_dir = r'Q:\\Data\\Surveys\\HouseholdSurveys\\MTC-SFCTA2018\\SANDAG\\2_tour_extract\\wt_wkday'\n",
    "raw_dir = r'Q:\\Data\\Surveys\\HouseholdSurveys\\MTC-SFCTA2018\\SANDAG'\n",
    "\n",
    "out_file = r'out\\%s_12_TNCTrips_IncVeh.xlsx' %REG"
   ]
  },
  {
   "cell_type": "code",
   "execution_count": 3,
   "id": "furnished-rotation",
   "metadata": {},
   "outputs": [
    {
     "name": "stderr",
     "output_type": "stream",
     "text": [
      "C:\\ProgramData\\Anaconda3\\lib\\site-packages\\pandas\\core\\indexing.py:1745: SettingWithCopyWarning: \n",
      "A value is trying to be set on a copy of a slice from a DataFrame.\n",
      "Try using .loc[row_indexer,col_indexer] = value instead\n",
      "\n",
      "See the caveats in the documentation: https://pandas.pydata.org/pandas-docs/stable/user_guide/indexing.html#returning-a-view-versus-a-copy\n",
      "  isetter(ilocs[0], value)\n"
     ]
    }
   ],
   "source": [
    "## Process household records\n",
    "hh_df = pd.read_csv(join(raw_dir, 'ex_hh_wZones.csv'))\n",
    "hh_df = hh_df[['hh_id','home_county_fips','num_people','num_vehicles',\n",
    "              'num_hh_members_age_18_to_34','num_hh_members_age_35_to_64','num_hh_members_age_65_to_74',\n",
    "              'num_hh_members_age_75_plus','num_workers']]\n",
    "hh_df['num_adults'] = hh_df['num_hh_members_age_18_to_34'] + hh_df['num_hh_members_age_35_to_64'] +\\\n",
    "                        hh_df['num_hh_members_age_65_to_74'] + hh_df['num_hh_members_age_75_plus']\n",
    "hh_df['veh_adult_ratio'] = hh_df['num_vehicles']/hh_df['num_adults']\n",
    "\n",
    "hh_df['veh_adult_ratio_cat'] = 0\n",
    "hh_df.loc[hh_df['veh_adult_ratio']>10, 'veh_adult_ratio_cat'] = 4\n",
    "hh_df.loc[(hh_df['veh_adult_ratio']<1) & (hh_df['veh_adult_ratio_cat']==0), 'veh_adult_ratio_cat'] = 1\n",
    "hh_df.loc[(hh_df['veh_adult_ratio']==1) & (hh_df['veh_adult_ratio_cat']==0), 'veh_adult_ratio_cat'] = 2\n",
    "hh_df.loc[(hh_df['veh_adult_ratio']>1) & (hh_df['veh_adult_ratio_cat']==0), 'veh_adult_ratio_cat'] = 3\n",
    "hh_df = hh_df[['hh_id','veh_adult_ratio_cat']]\n",
    "\n",
    "## Process person records\n",
    "tmp_df = pd.read_csv(join(raw_dir, 'ex_person_wZones.csv'))\n",
    "tmp_df = tmp_df.merge(hh_df, how='left')\n",
    "if REG=='SANDAG' or REG=='SCAG':\n",
    "    tmp_df2 = pd.read_csv(join(raw_dir, 'ex2_person.tsv'), sep='\\t')\n",
    "    tmp_df = tmp_df.merge(tmp_df2[['hh_id','person_id','raceeth_new_imputed']], how='left')\n",
    "tmp_df = tmp_df[['hh_id','person_num','raceeth_new_imputed','income_imputed','gender','age','veh_adult_ratio_cat']]\n",
    "tmp_df = tmp_df.rename(columns={'raceeth_new_imputed':'raceeth','income_imputed':'hinc'})\n",
    "tmp_df = tmp_df.rename(columns={'hh_id':'hhno','person_num':'pno'})\n",
    "\n",
    "per_df = pd.read_csv(join(base_dir,'survey2018_precx.dat'), sep=' ')\n",
    "per_df = per_df.merge(tmp_df, how='left')\n",
    "per_df['count'] = 1\n",
    "per_df = per_df[per_df['psexpfac']>0]\n",
    "\n",
    "## Process trip records\n",
    "raw_trips = pd.read_csv(join(raw_dir, 'ex_trip_wZones.csv'))\n",
    "raw_trips = raw_trips[['hh_id','person_num','trip_num','mode_uber','mode_lyft','tnc_pooled','mode_type_imputed']]\n",
    "raw_trips = raw_trips.rename(columns={'hh_id':'hhno','person_num':'pno','trip_num':'tsvid'})\n",
    "\n",
    "trip_df = pd.read_csv(join(base_dir,'survey2018_tripx.dat'), sep=' ')\n",
    "\n",
    "req_percols = ['hhno','pno','veh_adult_ratio_cat','hinc']\n",
    "\n",
    "def prep_df(df):\n",
    "    df = link_dt(df)\n",
    "    \n",
    "    df = df.loc[df['mode']==9, ]\n",
    "    df = df.merge(raw_trips, how='left')\n",
    "    df = df[df['mode_type_imputed']!=4] #remove taxi trips\n",
    "    \n",
    "    df['tnc_type'] = 3 # prem/other\n",
    "    df.loc[(df['mode_uber']==1) | (df['mode_lyft']==1), 'tnc_type'] = 1 # pooled\n",
    "    df.loc[(df['mode_uber']==2) | (df['mode_lyft']==2), 'tnc_type'] = 2 # regular\n",
    "    \n",
    "    df = df.merge(per_df[req_percols], \n",
    "                        how='left', on=['hhno','pno'])\n",
    "    df['count'] = 1\n",
    "    df = df[(df['trexpfac']>0) & (df['mode']>0)]\n",
    "    df = df[(df['otaz']>0) & (df['dtaz']>0)]\n",
    "    return df\n",
    "    \n",
    "trip_df = prep_df(trip_df)\n",
    "reg = trip_df.loc[trip_df['tnc_type']==2, ]\n",
    "pool = trip_df.loc[trip_df['tnc_type']==1, ]\n",
    "prem = trip_df.loc[trip_df['tnc_type']==3, ]"
   ]
  },
  {
   "cell_type": "code",
   "execution_count": 4,
   "id": "precise-trading",
   "metadata": {},
   "outputs": [],
   "source": [
    "col_dict = {\n",
    "    'hinc': {\n",
    "        'desc': 'HHInc',\n",
    "        'col': 'hinc',\n",
    "        'vals': range(1,9),\n",
    "        'labels': ['1_25K','2_25_50K','3_50_75K','4_75_100K','5_100_150K','6_150_200K','7_200_250K','8_250K']\n",
    "    },\n",
    "    'tncmode': {\n",
    "        'desc': 'TNCMode',\n",
    "        'col': 'tnc_type',\n",
    "        'vals': range(1,4),\n",
    "        'labels': ['2_Pool','1_Reg','3_PremOth']\n",
    "    },\n",
    "    'veh_adult_ratio_cat': {\n",
    "        'desc': 'Veh_Adult_Ratio',\n",
    "        'col': 'veh_adult_ratio_cat',\n",
    "        'vals': range(1,5),\n",
    "        'labels': ['1_Veh_LT_Adults','2_Veh_EQ_Adults','3_Veh_GT_Adults','4_Missing']\n",
    "    }\n",
    "}"
   ]
  },
  {
   "cell_type": "code",
   "execution_count": 5,
   "id": "bibliographic-probe",
   "metadata": {},
   "outputs": [],
   "source": [
    "fname = out_file\n",
    "writer = pd.ExcelWriter(fname, engine='xlsxwriter')\n",
    "workbook = writer.book\n",
    "format1 = workbook.add_format({'num_format': '#,##0.0'})"
   ]
  },
  {
   "cell_type": "code",
   "execution_count": 6,
   "id": "continued-terminal",
   "metadata": {},
   "outputs": [],
   "source": [
    "from xlsxwriter.utility import xl_rowcol_to_cell\n",
    "\n",
    "wt_cols = ['count', 'trexpfac']\n",
    "wt_desc = ['(Unweighted)', '(Weighted)']\n",
    "\n",
    "d1_dict = col_dict['veh_adult_ratio_cat']\n",
    "d2_dict = col_dict['hinc']\n",
    "\n",
    "for df, sname in zip([trip_df, reg, pool, prem], ['All_TNC', 'TNC_Reg', 'TNC_Pool', 'TNC_Prem']):\n",
    "    row = 0\n",
    "    for wc, wd in zip(wt_cols, wt_desc):\n",
    "        title = 'TNC Trips by ' + d2_dict['desc'] + ' and ' + d1_dict['desc'] + ' ' + wd\n",
    "        tab, tab_fmt = prep_data_2d(df,d1_dict['col'],d1_dict['vals'],d1_dict['labels'],\n",
    "                                d2_dict['col'],d2_dict['vals'],d2_dict['labels'],wc)\n",
    "        row = write_to_excel(tab.astype('float64'), sname, title, row)\n",
    "        \n",
    "        title = 'Column Shares by ' + d2_dict['desc'] + ' and ' + d1_dict['desc'] + ' ' + wd\n",
    "        row = write_to_excel(getSharesIdx(tab.copy()), sname, title, row)\n",
    "    tab_range = xl_rowcol_to_cell(row,1) + ':' + xl_rowcol_to_cell(row,tab.shape[1])\n",
    "    _ = writer.sheets[sname].set_column(tab_range, 11, format1)"
   ]
  },
  {
   "cell_type": "code",
   "execution_count": 7,
   "id": "parallel-studio",
   "metadata": {},
   "outputs": [],
   "source": [
    "writer.save()"
   ]
  }
 ],
 "metadata": {
  "kernelspec": {
   "display_name": "Python 3",
   "language": "python",
   "name": "python3"
  },
  "language_info": {
   "codemirror_mode": {
    "name": "ipython",
    "version": 3
   },
   "file_extension": ".py",
   "mimetype": "text/x-python",
   "name": "python",
   "nbconvert_exporter": "python",
   "pygments_lexer": "ipython3",
   "version": "3.7.6"
  }
 },
 "nbformat": 4,
 "nbformat_minor": 5
}
