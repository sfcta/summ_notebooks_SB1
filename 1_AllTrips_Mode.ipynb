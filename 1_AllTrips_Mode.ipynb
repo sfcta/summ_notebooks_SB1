{
 "cells": [
  {
   "cell_type": "code",
   "execution_count": 1,
   "metadata": {},
   "outputs": [],
   "source": [
    "%run ..\\notebooks\\Util_func.ipynb"
   ]
  },
  {
   "cell_type": "code",
   "execution_count": 2,
   "metadata": {},
   "outputs": [],
   "source": [
    "# # Bay Area\n",
    "# REG = 'BayArea'\n",
    "# base_dir = r'Q:\\Data\\Surveys\\HouseholdSurveys\\MTC-SFCTA2018\\Processing_20200228\\2_tour_extract\\wt_wkday'\n",
    "# allwk_dir = r'Q:\\Data\\Surveys\\HouseholdSurveys\\MTC-SFCTA2018\\Processing_20200228\\2_tour_extract\\wt_7day'\n",
    "# raw_dir = r'Q:\\Data\\Surveys\\HouseholdSurveys\\MTC-SFCTA2018\\Processing_20200228\\spatial_join'\n",
    "\n",
    "# out_file = r'out\\%s_1_AllTrips_Mode.xlsx' %REG"
   ]
  },
  {
   "cell_type": "code",
   "execution_count": 3,
   "metadata": {},
   "outputs": [],
   "source": [
    "# # SANDAG\n",
    "# REG = 'SANDAG'\n",
    "# base_dir = r'Q:\\Data\\Surveys\\HouseholdSurveys\\MTC-SFCTA2018\\SANDAG\\2_tour_extract\\wt_wkday'\n",
    "# allwk_dir = r'Q:\\Data\\Surveys\\HouseholdSurveys\\MTC-SFCTA2018\\SANDAG\\2_tour_extract\\wt_7day'\n",
    "# raw_dir = r'Q:\\Data\\Surveys\\HouseholdSurveys\\MTC-SFCTA2018\\SANDAG'\n",
    "\n",
    "# out_file = r'out2\\%s_1_AllTrips_Mode.xlsx' %REG"
   ]
  },
  {
   "cell_type": "code",
   "execution_count": 4,
   "metadata": {},
   "outputs": [],
   "source": [
    "# SCAG\n",
    "REG = 'SCAG'\n",
    "base_dir = r'Q:\\Data\\Surveys\\HouseholdSurveys\\MTC-SFCTA2018\\SCAG_dataset_2020-02-27\\2_tour_extract\\wt_wkday'\n",
    "allwk_dir = r'Q:\\Data\\Surveys\\HouseholdSurveys\\MTC-SFCTA2018\\SCAG_dataset_2020-02-27\\2_tour_extract\\wt_7day'\n",
    "raw_dir = r'Q:\\Data\\Surveys\\HouseholdSurveys\\MTC-SFCTA2018\\SCAG_dataset_2020-02-27'\n",
    "\n",
    "out_file = r'out2\\%s_1_AllTrips_Mode.xlsx' %REG"
   ]
  },
  {
   "cell_type": "code",
   "execution_count": 5,
   "metadata": {},
   "outputs": [
    {
     "name": "stderr",
     "output_type": "stream",
     "text": [
      "C:\\ProgramData\\Anaconda3\\lib\\site-packages\\pandas\\core\\indexing.py:1745: SettingWithCopyWarning: \n",
      "A value is trying to be set on a copy of a slice from a DataFrame.\n",
      "Try using .loc[row_indexer,col_indexer] = value instead\n",
      "\n",
      "See the caveats in the documentation: https://pandas.pydata.org/pandas-docs/stable/user_guide/indexing.html#returning-a-view-versus-a-copy\n",
      "  isetter(ilocs[0], value)\n"
     ]
    }
   ],
   "source": [
    "## Process trip records\n",
    "trip_df = pd.read_csv(join(base_dir,'survey2018_tripx.dat'), sep=' ')\n",
    "trip_df = link_dt(trip_df)\n",
    "\n",
    "trip_df['count'] = 1\n",
    "\n",
    "trip_df = trip_df[(trip_df['trexpfac']>0) & (trip_df['mode']>0)]\n",
    "trip_df = trip_df[(trip_df['otaz']>0) & (trip_df['dtaz']>0)]"
   ]
  },
  {
   "cell_type": "code",
   "execution_count": 6,
   "metadata": {},
   "outputs": [],
   "source": [
    "col_dict = {\n",
    "    'mode': {\n",
    "        'desc': 'Mode',\n",
    "        'col': 'mode',\n",
    "        'vals': range(1,10),\n",
    "        'labels': ['7_Wk','8_Bk','1_DA','2_SOV2','3_SOV3','5_WTrn','6_DTrn','9_SBus','4_TNC']\n",
    "    },\n",
    "    'day': {\n",
    "        'desc': 'DOW',\n",
    "        'col': 'day',\n",
    "        'vals': range(6,8),\n",
    "        'labels': ['6_Sat','7_Sun']\n",
    "    },\n",
    "}"
   ]
  },
  {
   "cell_type": "code",
   "execution_count": 7,
   "metadata": {},
   "outputs": [],
   "source": [
    "fname = out_file\n",
    "writer = pd.ExcelWriter(fname, engine='xlsxwriter')\n",
    "workbook = writer.book\n",
    "format1 = workbook.add_format({'num_format': '#,##0.0'})"
   ]
  },
  {
   "cell_type": "code",
   "execution_count": 8,
   "metadata": {},
   "outputs": [],
   "source": [
    "from xlsxwriter.utility import xl_rowcol_to_cell\n",
    "\n",
    "row = 0\n",
    "sname = 'Weekday'\n",
    "d1_dict = col_dict['mode']\n",
    "\n",
    "title = 'All Trips by ' + d1_dict['desc']\n",
    "tab = prep_data_1d(trip_df, d1_dict['desc'],d1_dict['col'], 'trexpfac', d1_dict['vals'], d1_dict['labels'])\n",
    "row = write_to_excel(tab, sname, title, row)\n",
    "\n",
    "title = 'Column Shares by ' + d1_dict['desc']\n",
    "row = write_to_excel(getSharesIdx(tab.copy()), sname, title, row)\n",
    "\n",
    "tab2 = tab.copy()\n",
    "tab2.iloc[-1,-1] = tab2.iloc[-1,0]\n",
    "\n",
    "title = 'Column Shares 95% CI by ' + d1_dict['desc']\n",
    "row = write_to_excel(getSharesIdxCI95(tab.copy()), sname, title, row)\n",
    "\n",
    "tab_range = xl_rowcol_to_cell(row,1) + ':' + xl_rowcol_to_cell(row,tab.shape[1])\n",
    "_ = writer.sheets[sname].set_column(tab_range, 11, format1)"
   ]
  },
  {
   "cell_type": "code",
   "execution_count": 9,
   "metadata": {},
   "outputs": [
    {
     "name": "stderr",
     "output_type": "stream",
     "text": [
      "C:\\ProgramData\\Anaconda3\\lib\\site-packages\\pandas\\core\\indexing.py:1745: SettingWithCopyWarning: \n",
      "A value is trying to be set on a copy of a slice from a DataFrame.\n",
      "Try using .loc[row_indexer,col_indexer] = value instead\n",
      "\n",
      "See the caveats in the documentation: https://pandas.pydata.org/pandas-docs/stable/user_guide/indexing.html#returning-a-view-versus-a-copy\n",
      "  isetter(ilocs[0], value)\n"
     ]
    }
   ],
   "source": [
    "## Process person records\n",
    "tmp_df = pd.read_csv(join(raw_dir, 'ex_person_wZones.csv'))\n",
    "if REG=='SANDAG' or REG=='SCAG':\n",
    "    tmp_df2 = pd.read_csv(join(raw_dir, 'ex2_person.tsv'), sep='\\t')\n",
    "    tmp_df = tmp_df.merge(tmp_df2[['hh_id','person_id','raceeth_new_imputed']], how='left')\n",
    "tmp_df = tmp_df[['hh_id','person_id','person_num','raceeth_new_imputed','income_imputed','gender','age',\n",
    "                'wt_alladult_mon','wt_alladult_tue','wt_alladult_wed','wt_alladult_thu','wt_alladult_fri',\n",
    "                'wt_alladult_sat','wt_alladult_sun']]\n",
    "tmp_df['person_id'] = tmp_df['person_id'].round().astype('int64')\n",
    "tmp_df = tmp_df.rename(columns={'raceeth_new_imputed':'raceeth','income_imputed':'hinc'})\n",
    "tmp_df = tmp_df.rename(columns={'hh_id':'hhno','person_num':'pno'})\n",
    "\n",
    "per_df = pd.read_csv(join(base_dir,'survey2018_precx.dat'), sep=' ') \n",
    "per_df = per_df.merge(tmp_df, how='left')\n",
    "\n",
    "## Process all week trip records\n",
    "trip_df = pd.read_csv(join(allwk_dir,'survey2018_tripx.dat'), sep=' ')\n",
    "trip_df = link_dt(trip_df)\n",
    "\n",
    "trip_df = trip_df.merge(per_df[['hhno','pno','raceeth','hinc','gender','age',\n",
    "                                'wt_alladult_mon','wt_alladult_tue','wt_alladult_wed','wt_alladult_thu','wt_alladult_fri',\n",
    "                                'wt_alladult_sat','wt_alladult_sun']], \n",
    "                        how='left', on=['hhno','pno'])\n",
    "DOW_LOOKUP = {1:'mon',2:'tue',3:'wed',4:'thu',5:'fri',6:'sat',7:'sun'}\n",
    "trip_df['trexpfac'] = 0\n",
    "for dow_num, dow in DOW_LOOKUP.items():\n",
    "    trip_df.loc[trip_df['day']==dow_num, 'trexpfac'] = trip_df.loc[trip_df['day']==dow_num, 'wt_alladult_'+dow]\n",
    "trip_df['trexpfac'] = trip_df['trexpfac'].fillna(0)\n",
    "\n",
    "trip_df['count'] = 1\n",
    "trip_df = trip_df[(trip_df['trexpfac']>0) & (trip_df['mode']>0)]\n",
    "trip_df = trip_df[(trip_df['otaz']>0) & (trip_df['dtaz']>0)]"
   ]
  },
  {
   "cell_type": "code",
   "execution_count": 10,
   "metadata": {},
   "outputs": [],
   "source": [
    "row = 0\n",
    "sname = 'Weekend'\n",
    "d1_dict = col_dict['mode']\n",
    "d2_dict = col_dict['day']\n",
    "\n",
    "wt_cols = ['count', 'trexpfac']\n",
    "wt_desc = ['(Unweighted)', '(Weighted)']\n",
    "\n",
    "for wc, wd in zip(wt_cols, wt_desc):\n",
    "    title = 'All Trips by ' + d2_dict['desc'] + ' and ' + d1_dict['desc'] + ' ' + wd\n",
    "    tab, tab_fmt = prep_data_2d(trip_df,d1_dict['col'],d1_dict['vals'],d1_dict['labels'],\n",
    "                            d2_dict['col'],d2_dict['vals'],d2_dict['labels'],wc)\n",
    "    row = write_to_excel(tab.astype('float64'), sname, title, row)\n",
    "        \n",
    "    if wc == 'count':\n",
    "        tab2 = tab.copy()\n",
    "    else:\n",
    "        tab2.iloc[:-1,:-1] = tab.iloc[:-1,:-1]\n",
    "\n",
    "    title = 'Column Shares by ' + d2_dict['desc'] + ' and ' + d1_dict['desc'] + ' ' + wd\n",
    "    row = write_to_excel(getSharesIdx(tab.copy()), sname, title, row)\n",
    "\n",
    "    title = 'Column Shares 95% CI by ' + d2_dict['desc'] + ' and ' + d1_dict['desc'] + ' ' + wd\n",
    "    row = write_to_excel(getSharesIdxCI95(tab2.copy()), sname, title, row)\n",
    "tab_range = xl_rowcol_to_cell(row,1) + ':' + xl_rowcol_to_cell(row,tab.shape[1])\n",
    "_ = writer.sheets[sname].set_column(tab_range, 11, format1)"
   ]
  },
  {
   "cell_type": "code",
   "execution_count": 11,
   "metadata": {},
   "outputs": [],
   "source": [
    "writer.save()"
   ]
  }
 ],
 "metadata": {
  "kernelspec": {
   "display_name": "Python 3",
   "language": "python",
   "name": "python3"
  },
  "language_info": {
   "codemirror_mode": {
    "name": "ipython",
    "version": 3
   },
   "file_extension": ".py",
   "mimetype": "text/x-python",
   "name": "python",
   "nbconvert_exporter": "python",
   "pygments_lexer": "ipython3",
   "version": "3.7.6"
  }
 },
 "nbformat": 4,
 "nbformat_minor": 4
}
