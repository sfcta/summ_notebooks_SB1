{
 "cells": [
  {
   "cell_type": "code",
   "execution_count": 1,
   "metadata": {},
   "outputs": [
    {
     "name": "stderr",
     "output_type": "stream",
     "text": [
      "C:\\ProgramData\\Anaconda3\\lib\\site-packages\\numpy\\_distributor_init.py:32: UserWarning: loaded more than 1 DLL from .libs:\n",
      "C:\\ProgramData\\Anaconda3\\lib\\site-packages\\numpy\\.libs\\libopenblas.PYQHXLVVQ7VESDPUVUADXEVJOBGHJPAY.gfortran-win_amd64.dll\n",
      "C:\\ProgramData\\Anaconda3\\lib\\site-packages\\numpy\\.libs\\libopenblas.WCDJNK7YVMPZQ2ME2ZZHJJRJ3JIKNDB7.gfortran-win_amd64.dll\n",
      "  stacklevel=1)\n"
     ]
    }
   ],
   "source": [
    "%run Util_func.ipynb"
   ]
  },
  {
   "cell_type": "code",
   "execution_count": 2,
   "metadata": {},
   "outputs": [],
   "source": [
    "# # Bay Area\n",
    "# REG = 'BayArea'\n",
    "# raw_dir = r'Q:\\Data\\Surveys\\HouseholdSurveys\\MTC-SFCTA2018\\Processing_20211018\\spatial_join'\n",
    "\n",
    "# out_file = r'..\\out3\\%s_4_TNCTrips_NumPax_Unprocessed.xlsx' %REG\n",
    "\n",
    "# o_geo_col = 'otaz'\n",
    "# d_geo_col = 'dtaz'"
   ]
  },
  {
   "cell_type": "code",
   "execution_count": 3,
   "metadata": {},
   "outputs": [],
   "source": [
    "# SANDAG\n",
    "REG = 'SANDAG'\n",
    "raw_dir = r'Q:\\Data\\Surveys\\HouseholdSurveys\\MTC-SFCTA2018\\SANDAG\\RSG_HTS_Oct2021_sandag'\n",
    "\n",
    "out_file = r'..\\out3\\%s_4_TNCTrips_NumPax_Unprocessed.xlsx' %REG\n",
    "\n",
    "o_geo_col = 'o_bg_geo_id'\n",
    "d_geo_col = 'd_bg_geo_id'"
   ]
  },
  {
   "cell_type": "code",
   "execution_count": 4,
   "metadata": {},
   "outputs": [],
   "source": [
    "# # SCAG\n",
    "# REG = 'SCAG'\n",
    "# raw_dir = r'Q:\\Data\\Surveys\\HouseholdSurveys\\MTC-SFCTA2018\\SCAG\\RSG_HTS_Oct2021_scag'\n",
    "\n",
    "# out_file = r'..\\out3\\%s_4_TNCTrips_NumPax_Unprocessed.xlsx' %REG\n",
    "\n",
    "# o_geo_col = 'o_bg_geo_id'\n",
    "# d_geo_col = 'd_bg_geo_id'"
   ]
  },
  {
   "cell_type": "code",
   "execution_count": 5,
   "metadata": {},
   "outputs": [
    {
     "name": "stderr",
     "output_type": "stream",
     "text": [
      "C:\\ProgramData\\Anaconda3\\lib\\site-packages\\ipykernel_launcher.py:17: SettingWithCopyWarning: \n",
      "A value is trying to be set on a copy of a slice from a DataFrame\n",
      "\n",
      "See the caveats in the documentation: https://pandas.pydata.org/pandas-docs/stable/user_guide/indexing.html#returning-a-view-versus-a-copy\n"
     ]
    }
   ],
   "source": [
    "## Process trip records\n",
    "trip_df = pd.read_csv(join(raw_dir, 'ex_trip_wZones.csv'))\n",
    "\n",
    "trip_df = trip_df.loc[trip_df['mode_type_imputed']==9, ]\n",
    "\n",
    "if REG == 'SANDAG':\n",
    "    trip_df.loc[(trip_df['hh_id']==195023345) & (trip_df['person_num']==2) & (trip_df['day_num']==4), 'daywt_alladult_wkday'] = 700\n",
    "    trip_df.loc[(trip_df['hh_id']==195025856) & (trip_df['person_num']==1) & (trip_df['day_num']==2), 'daywt_alladult_wkday'] = 700\n",
    "    trip_df.loc[(trip_df['hh_id']==195041291) & (trip_df['person_num']==1) & (trip_df['day_num']==7), 'daywt_alladult_wkday'] = 700\n",
    "    trip_df.loc[(trip_df['hh_id']==195064094) & (trip_df['person_num']==2) & (trip_df['day_num']==1), 'daywt_alladult_wkday'] = 700\n",
    "\n",
    "\n",
    "trip_df['tnc_type'] = 3 # prem/other\n",
    "trip_df.loc[(trip_df['mode_uber']==1) | (trip_df['mode_lyft']==1), 'tnc_type'] = 1 # pooled\n",
    "trip_df.loc[(trip_df['mode_uber']==2) | (trip_df['mode_lyft']==2), 'tnc_type'] = 2 # regular\n",
    "\n",
    "trip_df['tnc_pooled'][trip_df['tnc_pooled']>5] = 1\n",
    "trip_df['tnc_occ'] = trip_df['num_travelers']\n",
    "trip_df.loc[(trip_df['tnc_type']==1) & (trip_df['tnc_pooled']>0), 'tnc_occ'] += trip_df.loc[(trip_df['tnc_type']==1) & (trip_df['tnc_pooled']>0), 'tnc_pooled']\n",
    "trip_df['tnc_occ_cat'] = trip_df['tnc_occ']\n",
    "trip_df.loc[trip_df['tnc_occ_cat']>5, 'tnc_occ_cat'] = 5\n",
    "\n",
    "PURP_DICT = {\n",
    "            -1:-1,  #missing -> missing\n",
    "            1:0,    #home -> home\n",
    "            2:1,    #work -> work\n",
    "            3:4,    #work-related -> work\n",
    "            4:2,    #school -> school\n",
    "            5:3,    #escort -> escort\n",
    "            6:5,    #shop -> shop\n",
    "            7:6,    #meal -> meal\n",
    "            8:7,    #socrec -> socrec\n",
    "            9:4,    #errand/other -> pers.bus.\n",
    "            10:10,  #change mode -> change mode\n",
    "            11:11,  #night non-home -> other\n",
    "            12:11,  #other\\missing -> other\n",
    "            14:4,  #trip needs to be merged -> other\n",
    "            }\n",
    "trip_df.loc[pd.isna(trip_df['d_purpose_category_imputed']), 'd_purpose_category_imputed'] = -1\n",
    "trip_df['dpurp'] = trip_df['d_purpose_category_imputed'].map(PURP_DICT)\n",
    "\n",
    "trip_df.loc[pd.isna(trip_df['o_purpose_category_imputed']), 'o_purpose_category_imputed'] = -1\n",
    "trip_df['opurp'] = trip_df['o_purpose_category_imputed'].map(PURP_DICT)\n",
    "trip_df['dpurp2'] = trip_df['dpurp']\n",
    "trip_df.loc[trip_df['dpurp']==0, 'dpurp2'] = trip_df.loc[trip_df['dpurp']==0, 'opurp']\n",
    "\n",
    "trip_df['trexpfac'] = trip_df['daywt_alladult_wkday']\n",
    "\n",
    "trip_df['count'] = 1\n",
    "trip_df = trip_df[(trip_df['trexpfac']>0) & (trip_df['mode_type_imputed']>0)]\n",
    "trip_df = trip_df[(trip_df[o_geo_col]>0) & (trip_df[d_geo_col]>0)]"
   ]
  },
  {
   "cell_type": "code",
   "execution_count": 6,
   "metadata": {},
   "outputs": [],
   "source": [
    "col_dict = {\n",
    "    'dpurp': {\n",
    "        'desc': 'DPurp',\n",
    "        'col': 'dpurp',\n",
    "        'vals': [-1] + list(range(0,8)) + [10,11],\n",
    "        'labels': ['93_Missing','1_Home','2_Work','3_School','4_Escort','5_PersBus','6_Shop','7_Meal','8_SocRec',\n",
    "                   '91_ChgMode','92_Other']\n",
    "    },\n",
    "    'dpurp2': {\n",
    "        'desc': 'Non-Home Purp',\n",
    "        'col': 'dpurp2',\n",
    "        'vals': [-1] + list(range(1,8)) + [10,11],\n",
    "        'labels': ['93_Missing','1_Work','2_School','3_Escort','4_PersBus','5_Shop','6_Meal','7_SocRec',\n",
    "                   '91_ChgMode','92_Other']\n",
    "    },\n",
    "    'tnc_occ_cat': {\n",
    "        'desc': 'NumPax',\n",
    "        'col': 'tnc_occ_cat',\n",
    "        'vals': range(1,6),\n",
    "        'labels': ['1','2','3','4','5+']\n",
    "    },\n",
    "    'tncmode': {\n",
    "        'desc': 'TNCMode',\n",
    "        'col': 'tnc_type',\n",
    "        'vals': range(1,4),\n",
    "        'labels': ['2_Pool','1_Reg','3_PremOth']\n",
    "    }\n",
    "}"
   ]
  },
  {
   "cell_type": "code",
   "execution_count": 7,
   "metadata": {},
   "outputs": [],
   "source": [
    "fname = out_file\n",
    "writer = pd.ExcelWriter(fname, engine='xlsxwriter')\n",
    "workbook = writer.book\n",
    "format1 = workbook.add_format({'num_format': '#,##0.0'})"
   ]
  },
  {
   "cell_type": "code",
   "execution_count": 8,
   "metadata": {},
   "outputs": [],
   "source": [
    "from xlsxwriter.utility import xl_rowcol_to_cell\n",
    "\n",
    "row = 0\n",
    "sname = 'Weekday'\n",
    "d1_dict = col_dict['tnc_occ_cat']\n",
    "\n",
    "title = 'TNC Trips by ' + d1_dict['desc']\n",
    "tab = prep_data_1d(trip_df, d1_dict['desc'],d1_dict['col'], 'trexpfac', d1_dict['vals'], d1_dict['labels'])\n",
    "row = write_to_excel(tab, sname, title, row)\n",
    "\n",
    "title = 'Column Shares by ' + d1_dict['desc']\n",
    "row = write_to_excel(getSharesIdx(tab.copy()), sname, title, row)\n",
    "\n",
    "tab2 = tab.copy()\n",
    "tab2.iloc[-1,-1] = tab2.iloc[-1,0]\n",
    "\n",
    "title = 'Column Shares 95% CI by ' + d1_dict['desc']\n",
    "row = write_to_excel(getSharesIdxCI95(tab.copy()), sname, title, row)\n",
    "\n",
    "tab_range = xl_rowcol_to_cell(row,1) + ':' + xl_rowcol_to_cell(row,tab.shape[1])\n",
    "_ = writer.sheets[sname].set_column(tab_range, 11, format1)"
   ]
  },
  {
   "cell_type": "code",
   "execution_count": 9,
   "metadata": {},
   "outputs": [],
   "source": [
    "wt_cols = ['count', 'trexpfac']\n",
    "wt_desc = ['(Unweighted)', '(Weighted)']\n",
    "\n",
    "for key in ['dpurp2', 'tncmode']:\n",
    "    d2_dict = col_dict[key]\n",
    "    row = 0\n",
    "    sname = d2_dict['desc']\n",
    "    \n",
    "    for wc, wd in zip(wt_cols, wt_desc):\n",
    "        title = 'TNC Trips by ' + d2_dict['desc'] + ' and ' + d1_dict['desc'] + ' ' + wd\n",
    "        tab, tab_fmt = prep_data_2d(trip_df,d1_dict['col'],d1_dict['vals'],d1_dict['labels'],\n",
    "                                d2_dict['col'],d2_dict['vals'],d2_dict['labels'],wc)\n",
    "        row = write_to_excel(tab.astype('float64'), sname, title, row)\n",
    "\n",
    "        if wc == 'count':\n",
    "            tab2 = tab.copy()\n",
    "        else:\n",
    "            tab2.iloc[:-1,:-1] = tab.iloc[:-1,:-1]\n",
    "\n",
    "        title = 'Column Shares by ' + d2_dict['desc'] + ' and ' + d1_dict['desc'] + ' ' + wd\n",
    "        row = write_to_excel(getSharesIdx(tab.copy()), sname, title, row)\n",
    "\n",
    "        title = 'Column Shares 95% CI by ' + d2_dict['desc'] + ' and ' + d1_dict['desc'] + ' ' + wd\n",
    "        row = write_to_excel(getSharesIdxCI95(tab2.copy()), sname, title, row)\n",
    "    tab_range = xl_rowcol_to_cell(row,1) + ':' + xl_rowcol_to_cell(row,tab.shape[1])\n",
    "    _ = writer.sheets[sname].set_column(tab_range, 11, format1)"
   ]
  },
  {
   "cell_type": "code",
   "execution_count": 10,
   "metadata": {},
   "outputs": [],
   "source": [
    "writer.save()"
   ]
  }
 ],
 "metadata": {
  "kernelspec": {
   "display_name": "Python 3",
   "language": "python",
   "name": "python3"
  },
  "language_info": {
   "codemirror_mode": {
    "name": "ipython",
    "version": 3
   },
   "file_extension": ".py",
   "mimetype": "text/x-python",
   "name": "python",
   "nbconvert_exporter": "python",
   "pygments_lexer": "ipython3",
   "version": "3.7.6"
  }
 },
 "nbformat": 4,
 "nbformat_minor": 4
}
