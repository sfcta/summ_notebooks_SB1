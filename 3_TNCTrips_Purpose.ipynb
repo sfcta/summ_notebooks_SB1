{
 "cells": [
  {
   "cell_type": "code",
   "execution_count": 1,
   "metadata": {},
   "outputs": [],
   "source": [
    "%run ..\\notebooks\\Util_func.ipynb"
   ]
  },
  {
   "cell_type": "code",
   "execution_count": 2,
   "metadata": {},
   "outputs": [],
   "source": [
    "# # Bay Area\n",
    "# REG = 'BayArea'\n",
    "# base_dir = r'Q:\\Data\\Surveys\\HouseholdSurveys\\MTC-SFCTA2018\\Processing_20200228\\2_tour_extract\\wt_wkday'\n",
    "# allwk_dir = r'Q:\\Data\\Surveys\\HouseholdSurveys\\MTC-SFCTA2018\\Processing_20200228\\2_tour_extract\\wt_7day'\n",
    "# raw_dir = r'Q:\\Data\\Surveys\\HouseholdSurveys\\MTC-SFCTA2018\\Processing_20200228\\spatial_join'\n",
    "\n",
    "# out_file = r'out\\%s_3_TNCTrips_Purpose.xlsx' %REG"
   ]
  },
  {
   "cell_type": "code",
   "execution_count": 3,
   "metadata": {},
   "outputs": [],
   "source": [
    "# # SANDAG\n",
    "# REG = 'SANDAG'\n",
    "# base_dir = r'Q:\\Data\\Surveys\\HouseholdSurveys\\MTC-SFCTA2018\\SANDAG\\2_tour_extract\\wt_wkday'\n",
    "# allwk_dir = r'Q:\\Data\\Surveys\\HouseholdSurveys\\MTC-SFCTA2018\\SANDAG\\2_tour_extract\\wt_7day'\n",
    "# raw_dir = r'Q:\\Data\\Surveys\\HouseholdSurveys\\MTC-SFCTA2018\\SANDAG'\n",
    "\n",
    "# out_file = r'out2\\%s_3_TNCTrips_Purpose.xlsx' %REG"
   ]
  },
  {
   "cell_type": "code",
   "execution_count": 4,
   "metadata": {},
   "outputs": [],
   "source": [
    "# SCAG\n",
    "REG = 'SCAG'\n",
    "base_dir = r'Q:\\Data\\Surveys\\HouseholdSurveys\\MTC-SFCTA2018\\SCAG_dataset_2020-02-27\\2_tour_extract\\wt_wkday'\n",
    "allwk_dir = r'Q:\\Data\\Surveys\\HouseholdSurveys\\MTC-SFCTA2018\\SCAG_dataset_2020-02-27\\2_tour_extract\\wt_7day'\n",
    "raw_dir = r'Q:\\Data\\Surveys\\HouseholdSurveys\\MTC-SFCTA2018\\SCAG_dataset_2020-02-27'\n",
    "\n",
    "out_file = r'out2\\%s_3_TNCTrips_Purpose.xlsx' %REG"
   ]
  },
  {
   "cell_type": "code",
   "execution_count": 5,
   "metadata": {},
   "outputs": [
    {
     "name": "stderr",
     "output_type": "stream",
     "text": [
      "C:\\ProgramData\\Anaconda3\\lib\\site-packages\\pandas\\core\\indexing.py:1745: SettingWithCopyWarning: \n",
      "A value is trying to be set on a copy of a slice from a DataFrame.\n",
      "Try using .loc[row_indexer,col_indexer] = value instead\n",
      "\n",
      "See the caveats in the documentation: https://pandas.pydata.org/pandas-docs/stable/user_guide/indexing.html#returning-a-view-versus-a-copy\n",
      "  isetter(ilocs[0], value)\n"
     ]
    }
   ],
   "source": [
    "## Process person records\n",
    "tmp_df = pd.read_csv(join(raw_dir, 'ex_person_wZones.csv'))\n",
    "if REG=='SANDAG' or REG=='SCAG':\n",
    "    tmp_df2 = pd.read_csv(join(raw_dir, 'ex2_person.tsv'), sep='\\t')\n",
    "    tmp_df = tmp_df.merge(tmp_df2[['hh_id','person_id','raceeth_new_imputed']], how='left')\n",
    "tmp_df = tmp_df[['hh_id','person_id','person_num','raceeth_new_imputed','income_imputed','gender','age',\n",
    "                'wt_alladult_mon','wt_alladult_tue','wt_alladult_wed','wt_alladult_thu','wt_alladult_fri',\n",
    "                'wt_alladult_sat','wt_alladult_sun']]\n",
    "tmp_df['person_id'] = tmp_df['person_id'].round().astype('int64')\n",
    "tmp_df = tmp_df.rename(columns={'raceeth_new_imputed':'raceeth','income_imputed':'hinc'})\n",
    "tmp_df = tmp_df.rename(columns={'hh_id':'hhno','person_num':'pno'})\n",
    "\n",
    "per_df = pd.read_csv(join(base_dir,'survey2018_precx.dat'), sep=' ') \n",
    "per_df = per_df.merge(tmp_df, how='left')\n",
    "\n",
    "## Process trip records\n",
    "raw_trips = pd.read_csv(join(raw_dir, 'ex_trip_wZones.csv'))\n",
    "raw_trips = raw_trips[['hh_id','person_num','trip_num','mode_uber','mode_lyft','mode_type_imputed']]\n",
    "raw_trips = raw_trips.rename(columns={'hh_id':'hhno','person_num':'pno','trip_num':'tsvid'})\n",
    "\n",
    "trip_df = pd.read_csv(join(base_dir,'survey2018_tripx.dat'), sep=' ')\n",
    "\n",
    "req_percols = ['hhno','pno','raceeth','hinc','gender','age',\n",
    "               'wt_alladult_mon','wt_alladult_tue','wt_alladult_wed','wt_alladult_thu','wt_alladult_fri',\n",
    "               'wt_alladult_sat','wt_alladult_sun']\n",
    "def prep_df(df):\n",
    "    df = link_dt(df)\n",
    "    \n",
    "    df = df.loc[df['mode']==9, ]\n",
    "    df = df.merge(raw_trips, how='left')\n",
    "    df = df[df['mode_type_imputed']!=4] #remove taxi trips\n",
    "    \n",
    "    df['tnc_type'] = 3 # prem/other\n",
    "    df.loc[(df['mode_uber']==1) | (df['mode_lyft']==1), 'tnc_type'] = 1 # pooled\n",
    "    df.loc[(df['mode_uber']==2) | (df['mode_lyft']==2), 'tnc_type'] = 2 # regular\n",
    "    \n",
    "    df = df.merge(per_df[req_percols], \n",
    "                        how='left', on=['hhno','pno'])\n",
    "    df.loc[df['gender']==997, 'gender'] = 5 #Other\n",
    "    df.loc[df['gender']==999, 'gender'] = 6 #NoAnswer\n",
    "    df.loc[df['gender'].isin([-9998, 995]), 'gender'] = 6 #Missing\n",
    "    \n",
    "    df['dephr'] = (df['deptm']/100).astype(int)\n",
    "    df['count'] = 1\n",
    "    df = df[(df['trexpfac']>0) & (df['mode']>0)]\n",
    "    df = df[(df['otaz']>0) & (df['dtaz']>0)]\n",
    "    return df\n",
    "\n",
    "trip_df = prep_df(trip_df)"
   ]
  },
  {
   "cell_type": "code",
   "execution_count": 6,
   "metadata": {},
   "outputs": [],
   "source": [
    "col_dict = {\n",
    "    'dpurp': {\n",
    "        'desc': 'DPurp',\n",
    "        'col': 'dpurp',\n",
    "        'vals': range(0,8),\n",
    "        'labels': ['1_Home','2_Work','3_School','4_Escort','5_PersBus','6_Shop','7_Meal','8_SocRec']\n",
    "    },\n",
    "    'raceeth': {\n",
    "        'desc': 'RaceEth',\n",
    "        'col': 'raceeth',\n",
    "        'vals': range(1,6),\n",
    "        'labels': ['1_Hispanic','2_Black','3_Asian/PI','4_White','5_Other']\n",
    "    },\n",
    "    'hinc': {\n",
    "        'desc': 'HHInc',\n",
    "        'col': 'hinc',\n",
    "        'vals': range(1,9),\n",
    "        'labels': ['1_25K','2_25_50K','3_50_75K','4_75_100K','5_100_150K','6_150_200K','7_200_250K','8_250K']\n",
    "    },\n",
    "    'age': {\n",
    "        'desc': 'Age',\n",
    "        'col': 'age',\n",
    "        'vals': range(4,11),\n",
    "        'labels': ['18-24','25-34','35-44','45-54','55-64','65-74','75+']\n",
    "    },\n",
    "    'gender': {\n",
    "        'desc': 'Gend',\n",
    "        'col': 'gender',\n",
    "        'vals': range(1,7),\n",
    "        'labels': ['1_F','2_M','3_Trns','4_NBin','5_Oth','6_Miss']\n",
    "    },\n",
    "    'tncmode': {\n",
    "        'desc': 'TNCMode',\n",
    "        'col': 'tnc_type',\n",
    "        'vals': range(1,4),\n",
    "        'labels': ['2_Pool','1_Reg','3_PremOth']\n",
    "    },\n",
    "    'tod': {\n",
    "        'desc': 'TOD',\n",
    "        'col': 'dephr',\n",
    "        'vals': range(0,24),\n",
    "        'labels': ['10_0AM','11_1AM','12_2AM','13_3AM','14_4AM','15_5AM','16_6AM','17_7AM',\n",
    "                   '18_8AM','19_9AM','20_10AM','21_11AM','22_12AM','23_1PM','24_2PM','25_3PM',\n",
    "                   '26_4PM','27_5PM','28_6PM','29_7PM','30_8PM','31_9PM','32_10PM','33_11PM']\n",
    "    },\n",
    "    'day': {\n",
    "        'desc': 'DOW',\n",
    "        'col': 'day',\n",
    "        'vals': range(1,8),\n",
    "        'labels': ['1_Mon','2_Tue','3_Wed','4_Thu','5_Fri','6_Sat','7_Sun']\n",
    "    }\n",
    "}"
   ]
  },
  {
   "cell_type": "code",
   "execution_count": 7,
   "metadata": {},
   "outputs": [],
   "source": [
    "fname = out_file\n",
    "writer = pd.ExcelWriter(fname, engine='xlsxwriter')\n",
    "workbook = writer.book\n",
    "format1 = workbook.add_format({'num_format': '#,##0.0'})"
   ]
  },
  {
   "cell_type": "code",
   "execution_count": 8,
   "metadata": {},
   "outputs": [],
   "source": [
    "from xlsxwriter.utility import xl_rowcol_to_cell\n",
    "\n",
    "row = 0\n",
    "sname = 'Weekday'\n",
    "d1_dict = col_dict['dpurp']\n",
    "\n",
    "title = 'TNC Trips by ' + d1_dict['desc']\n",
    "tab = prep_data_1d(trip_df, d1_dict['desc'],d1_dict['col'], 'trexpfac', d1_dict['vals'], d1_dict['labels'])\n",
    "row = write_to_excel(tab, sname, title, row)\n",
    "\n",
    "title = 'Column Shares by ' + d1_dict['desc']\n",
    "row = write_to_excel(getSharesIdx(tab.copy()), sname, title, row)\n",
    "\n",
    "tab2 = tab.copy()\n",
    "tab2.iloc[-1,-1] = tab2.iloc[-1,0]\n",
    "\n",
    "title = 'Column Shares 95% CI by ' + d1_dict['desc']\n",
    "row = write_to_excel(getSharesIdxCI95(tab.copy()), sname, title, row)\n",
    "\n",
    "tab_range = xl_rowcol_to_cell(row,1) + ':' + xl_rowcol_to_cell(row,tab.shape[1])\n",
    "_ = writer.sheets[sname].set_column(tab_range, 11, format1)"
   ]
  },
  {
   "cell_type": "code",
   "execution_count": 9,
   "metadata": {},
   "outputs": [],
   "source": [
    "wt_cols = ['count', 'trexpfac']\n",
    "wt_desc = ['(Unweighted)', '(Weighted)']\n",
    "\n",
    "for key in ['tod','raceeth', 'hinc', 'age', 'gender', 'tncmode']:\n",
    "    d2_dict = col_dict[key]\n",
    "    row = 0\n",
    "    sname = d2_dict['desc']\n",
    "    \n",
    "    for wc, wd in zip(wt_cols, wt_desc):\n",
    "        title = 'TNC Trips by ' + d2_dict['desc'] + ' and ' + d1_dict['desc'] + ' ' + wd\n",
    "        tab, tab_fmt = prep_data_2d(trip_df,d1_dict['col'],d1_dict['vals'],d1_dict['labels'],\n",
    "                                d2_dict['col'],d2_dict['vals'],d2_dict['labels'],wc)\n",
    "        row = write_to_excel(tab.astype('float64'), sname, title, row)\n",
    "\n",
    "        if wc == 'count':\n",
    "            tab2 = tab.copy()\n",
    "        else:\n",
    "            tab2.iloc[:-1,:-1] = tab.iloc[:-1,:-1]\n",
    "\n",
    "        title = 'Column Shares by ' + d2_dict['desc'] + ' and ' + d1_dict['desc'] + ' ' + wd\n",
    "        row = write_to_excel(getSharesIdx(tab.copy()), sname, title, row)\n",
    "\n",
    "        title = 'Column Shares 95% CI by ' + d2_dict['desc'] + ' and ' + d1_dict['desc'] + ' ' + wd\n",
    "        row = write_to_excel(getSharesIdxCI95(tab2.copy()), sname, title, row)\n",
    "    tab_range = xl_rowcol_to_cell(row,1) + ':' + xl_rowcol_to_cell(row,tab.shape[1])\n",
    "    _ = writer.sheets[sname].set_column(tab_range, 11, format1)"
   ]
  },
  {
   "cell_type": "code",
   "execution_count": 10,
   "metadata": {},
   "outputs": [
    {
     "name": "stderr",
     "output_type": "stream",
     "text": [
      "C:\\ProgramData\\Anaconda3\\lib\\site-packages\\pandas\\core\\indexing.py:1745: SettingWithCopyWarning: \n",
      "A value is trying to be set on a copy of a slice from a DataFrame.\n",
      "Try using .loc[row_indexer,col_indexer] = value instead\n",
      "\n",
      "See the caveats in the documentation: https://pandas.pydata.org/pandas-docs/stable/user_guide/indexing.html#returning-a-view-versus-a-copy\n",
      "  isetter(ilocs[0], value)\n"
     ]
    }
   ],
   "source": [
    "## Process all week trip records\n",
    "trip_df = pd.read_csv(join(allwk_dir,'survey2018_tripx.dat'), sep=' ')\n",
    "trip_df = prep_df(trip_df)\n",
    "\n",
    "DOW_LOOKUP = {1:'mon',2:'tue',3:'wed',4:'thu',5:'fri',6:'sat',7:'sun'}\n",
    "trip_df['trexpfac'] = 0\n",
    "for dow_num, dow in DOW_LOOKUP.items():\n",
    "    trip_df.loc[trip_df['day']==dow_num, 'trexpfac'] = trip_df.loc[trip_df['day']==dow_num, 'wt_alladult_'+dow]\n",
    "trip_df['trexpfac'] = trip_df['trexpfac'].fillna(0)"
   ]
  },
  {
   "cell_type": "code",
   "execution_count": 11,
   "metadata": {},
   "outputs": [],
   "source": [
    "row = 0\n",
    "sname = 'DOW'\n",
    "d2_dict = col_dict['day']"
   ]
  },
  {
   "cell_type": "code",
   "execution_count": 12,
   "metadata": {},
   "outputs": [],
   "source": [
    "for wc, wd in zip(wt_cols, wt_desc):\n",
    "    title = 'TNC Trips by ' + d2_dict['desc'] + ' and ' + d1_dict['desc'] + ' ' + wd\n",
    "    tab, tab_fmt = prep_data_2d(trip_df,d1_dict['col'],d1_dict['vals'],d1_dict['labels'],\n",
    "                            d2_dict['col'],d2_dict['vals'],d2_dict['labels'],wc)\n",
    "    row = write_to_excel(tab.astype('float64'), sname, title, row)\n",
    "        \n",
    "    if wc == 'count':\n",
    "        tab2 = tab.copy()\n",
    "    else:\n",
    "        tab2.iloc[:-1,:-1] = tab.iloc[:-1,:-1]\n",
    "\n",
    "    title = 'Column Shares by ' + d2_dict['desc'] + ' and ' + d1_dict['desc'] + ' ' + wd\n",
    "    row = write_to_excel(getSharesIdx(tab.copy()), sname, title, row)\n",
    "\n",
    "    title = 'Column Shares 95% CI by ' + d2_dict['desc'] + ' and ' + d1_dict['desc'] + ' ' + wd\n",
    "    row = write_to_excel(getSharesIdxCI95(tab2.copy()), sname, title, row)\n",
    "tab_range = xl_rowcol_to_cell(row,1) + ':' + xl_rowcol_to_cell(row,tab.shape[1])\n",
    "_ = writer.sheets[sname].set_column(tab_range, 11, format1)"
   ]
  },
  {
   "cell_type": "code",
   "execution_count": 13,
   "metadata": {},
   "outputs": [],
   "source": [
    "writer.save()"
   ]
  }
 ],
 "metadata": {
  "kernelspec": {
   "display_name": "Python 3",
   "language": "python",
   "name": "python3"
  },
  "language_info": {
   "codemirror_mode": {
    "name": "ipython",
    "version": 3
   },
   "file_extension": ".py",
   "mimetype": "text/x-python",
   "name": "python",
   "nbconvert_exporter": "python",
   "pygments_lexer": "ipython3",
   "version": "3.7.6"
  }
 },
 "nbformat": 4,
 "nbformat_minor": 4
}
