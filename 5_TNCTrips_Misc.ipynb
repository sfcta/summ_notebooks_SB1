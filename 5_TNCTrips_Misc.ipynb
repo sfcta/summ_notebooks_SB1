{
 "cells": [
  {
   "cell_type": "code",
   "execution_count": 1,
   "metadata": {},
   "outputs": [],
   "source": [
    "%run ..\\notebooks\\Util_func.ipynb"
   ]
  },
  {
   "cell_type": "code",
   "execution_count": 2,
   "metadata": {},
   "outputs": [],
   "source": [
    "# # Bay Area\n",
    "# REG = 'BayArea'\n",
    "# base_dir = r'Q:\\Data\\Surveys\\HouseholdSurveys\\MTC-SFCTA2018\\Processing_20200228\\2_tour_extract\\wt_wkday'\n",
    "# raw_dir = r'Q:\\Data\\Surveys\\HouseholdSurveys\\MTC-SFCTA2018\\Processing_20200228\\spatial_join'\n",
    "\n",
    "# out_file = r'out\\%s_5_TNCTrips_Misc.xlsx' %REG"
   ]
  },
  {
   "cell_type": "code",
   "execution_count": 3,
   "metadata": {},
   "outputs": [],
   "source": [
    "# # SANDAG\n",
    "# REG = 'SANDAG'\n",
    "# base_dir = r'Q:\\Data\\Surveys\\HouseholdSurveys\\MTC-SFCTA2018\\SANDAG\\2_tour_extract\\wt_wkday'\n",
    "# raw_dir = r'Q:\\Data\\Surveys\\HouseholdSurveys\\MTC-SFCTA2018\\SANDAG'\n",
    "\n",
    "# out_file = r'out2\\%s_5_TNCTrips_Misc.xlsx' %REG"
   ]
  },
  {
   "cell_type": "code",
   "execution_count": 4,
   "metadata": {},
   "outputs": [],
   "source": [
    "# SCAG\n",
    "REG = 'SCAG'\n",
    "base_dir = r'Q:\\Data\\Surveys\\HouseholdSurveys\\MTC-SFCTA2018\\SCAG_dataset_2020-02-27\\2_tour_extract\\wt_wkday'\n",
    "raw_dir = r'Q:\\Data\\Surveys\\HouseholdSurveys\\MTC-SFCTA2018\\SCAG_dataset_2020-02-27'\n",
    "\n",
    "out_file = r'out2\\%s_5_TNCTrips_Misc.xlsx' %REG"
   ]
  },
  {
   "cell_type": "code",
   "execution_count": 5,
   "metadata": {},
   "outputs": [
    {
     "name": "stderr",
     "output_type": "stream",
     "text": [
      "C:\\ProgramData\\Anaconda3\\lib\\site-packages\\pandas\\core\\indexing.py:1745: SettingWithCopyWarning: \n",
      "A value is trying to be set on a copy of a slice from a DataFrame.\n",
      "Try using .loc[row_indexer,col_indexer] = value instead\n",
      "\n",
      "See the caveats in the documentation: https://pandas.pydata.org/pandas-docs/stable/user_guide/indexing.html#returning-a-view-versus-a-copy\n",
      "  isetter(ilocs[0], value)\n"
     ]
    }
   ],
   "source": [
    "## Process trip records\n",
    "raw_trips = pd.read_csv(join(raw_dir, 'ex_trip_wZones.csv'))\n",
    "raw_trips = raw_trips[['hh_id','person_num','trip_num','mode_uber','mode_lyft','tnc_decide','tnc_schedule',\n",
    "                       'tnc_replace','tnc_pooled','mode_type_imputed']]\n",
    "raw_trips = raw_trips.rename(columns={'hh_id':'hhno','person_num':'pno','trip_num':'tsvid'})\n",
    "\n",
    "trip_df = pd.read_csv(join(base_dir,'survey2018_tripx.dat'), sep=' ')\n",
    "trip_df = link_dt(trip_df)\n",
    "trip_df = trip_df.loc[trip_df['mode']==9, ]\n",
    "trip_df = trip_dist_map(trip_df)\n",
    "trip_df = trip_df.merge(raw_trips, how='left')\n",
    "trip_df = trip_df[trip_df['mode_type_imputed']!=4] #remove taxi trips\n",
    "\n",
    "trip_df['tnc_type'] = 3 # prem/other\n",
    "trip_df.loc[(trip_df['mode_uber']==1) | (trip_df['mode_lyft']==1), 'tnc_type'] = 1 # pooled\n",
    "trip_df.loc[(trip_df['mode_uber']==2) | (trip_df['mode_lyft']==2), 'tnc_type'] = 2 # regular\n",
    "\n",
    "trip_df['count'] = 1\n",
    "trip_df = trip_df[(trip_df['trexpfac']>0) & (trip_df['mode']>0)]\n",
    "trip_df = trip_df[(trip_df['otaz']>0) & (trip_df['dtaz']>0)]"
   ]
  },
  {
   "cell_type": "code",
   "execution_count": 6,
   "metadata": {},
   "outputs": [],
   "source": [
    "col_dict = {\n",
    "    'altmode': {\n",
    "        'desc': 'TNC_Alt',\n",
    "        'col': 'tnc_replace',\n",
    "        'vals': list(range(1,8)) + [9,10,997,995],\n",
    "        'labels': ['1_Taxi','2_DA','3_SR','4_Trn','5_WkBk','6_ODes','7_NoTrp','90_BART','91_OTrn','92_Oth','93_Miss']\n",
    "    },\n",
    "    'when': {\n",
    "        'desc': 'TNC_When',\n",
    "        'col': 'tnc_decide',\n",
    "        'vals': list(range(1,6)) + [995],\n",
    "        'labels': ['1_RightBef','2_Hour','3_SameDay','4_PrevDay','5_2+Days','6_Miss']\n",
    "    },\n",
    "    'sched': {\n",
    "        'desc': 'TNC_Sched',\n",
    "        'col': 'tnc_schedule',\n",
    "        'vals': list(range(2)) + [995],\n",
    "        'labels': ['1_No','2_Yes','3_Miss']\n",
    "    },\n",
    "    'tncmode': {\n",
    "        'desc': 'TNC_Mode',\n",
    "        'col': 'tnc_type',\n",
    "        'vals': range(1,4),\n",
    "        'labels': ['2_Pool','1_Reg','3_PremOth']\n",
    "    }\n",
    "}"
   ]
  },
  {
   "cell_type": "code",
   "execution_count": 7,
   "metadata": {},
   "outputs": [],
   "source": [
    "fname = out_file\n",
    "writer = pd.ExcelWriter(fname, engine='xlsxwriter')\n",
    "workbook = writer.book\n",
    "format1 = workbook.add_format({'num_format': '#,##0.0'})"
   ]
  },
  {
   "cell_type": "code",
   "execution_count": 8,
   "metadata": {},
   "outputs": [],
   "source": [
    "from xlsxwriter.utility import xl_rowcol_to_cell\n",
    "\n",
    "for key in ['when', 'sched', 'altmode', 'tncmode']:\n",
    "    d1_dict = col_dict[key]\n",
    "    row = 0\n",
    "    sname = d1_dict['desc']\n",
    "    \n",
    "    title = 'TNC Trips by ' + d1_dict['desc']\n",
    "    tab = prep_data_1d(trip_df, d1_dict['desc'],d1_dict['col'], 'trexpfac', d1_dict['vals'], d1_dict['labels'])\n",
    "    row = write_to_excel(tab, sname, title, row)\n",
    "\n",
    "    title = 'Column Shares by ' + d1_dict['desc']\n",
    "    row = write_to_excel(getSharesIdx(tab.copy()), sname, title, row)\n",
    "\n",
    "    tab2 = tab.copy()\n",
    "    tab2.iloc[-1,-1] = tab2.iloc[-1,0]\n",
    "\n",
    "    title = 'Column Shares 95% CI by ' + d1_dict['desc']\n",
    "    row = write_to_excel(getSharesIdxCI95(tab.copy()), sname, title, row)\n",
    "\n",
    "    tab_range = xl_rowcol_to_cell(row,1) + ':' + xl_rowcol_to_cell(row,tab.shape[1])\n",
    "    _ = writer.sheets[sname].set_column(tab_range, 11, format1)"
   ]
  },
  {
   "cell_type": "code",
   "execution_count": 9,
   "metadata": {},
   "outputs": [],
   "source": [
    "writer.save()"
   ]
  }
 ],
 "metadata": {
  "kernelspec": {
   "display_name": "Python 3",
   "language": "python",
   "name": "python3"
  },
  "language_info": {
   "codemirror_mode": {
    "name": "ipython",
    "version": 3
   },
   "file_extension": ".py",
   "mimetype": "text/x-python",
   "name": "python",
   "nbconvert_exporter": "python",
   "pygments_lexer": "ipython3",
   "version": "3.7.6"
  }
 },
 "nbformat": 4,
 "nbformat_minor": 4
}
