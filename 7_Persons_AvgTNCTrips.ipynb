{
 "cells": [
  {
   "cell_type": "code",
   "execution_count": 1,
   "metadata": {},
   "outputs": [],
   "source": [
    "%run ..\\notebooks\\Util_func.ipynb"
   ]
  },
  {
   "cell_type": "code",
   "execution_count": 2,
   "metadata": {},
   "outputs": [],
   "source": [
    "# # Bay Area\n",
    "# REG = 'BayArea'\n",
    "# base_dir = r'Q:\\Data\\Surveys\\HouseholdSurveys\\MTC-SFCTA2018\\Processing_20200228\\2_tour_extract\\wt_wkday'\n",
    "# raw_dir = r'Q:\\Data\\Surveys\\HouseholdSurveys\\MTC-SFCTA2018\\Processing_20200228\\spatial_join'\n",
    "\n",
    "# out_file = r'out\\%s_7_Persons_AvgTNCTrips.xlsx' %REG"
   ]
  },
  {
   "cell_type": "code",
   "execution_count": 3,
   "metadata": {},
   "outputs": [],
   "source": [
    "# # SANDAG\n",
    "# REG = 'SANDAG'\n",
    "# base_dir = r'Q:\\Data\\Surveys\\HouseholdSurveys\\MTC-SFCTA2018\\SANDAG\\2_tour_extract\\wt_wkday'\n",
    "# raw_dir = r'Q:\\Data\\Surveys\\HouseholdSurveys\\MTC-SFCTA2018\\SANDAG'\n",
    "\n",
    "# out_file = r'out2\\%s_7_Persons_AvgTNCTrips.xlsx' %REG"
   ]
  },
  {
   "cell_type": "code",
   "execution_count": 4,
   "metadata": {},
   "outputs": [],
   "source": [
    "# SCAG\n",
    "REG = 'SCAG'\n",
    "base_dir = r'Q:\\Data\\Surveys\\HouseholdSurveys\\MTC-SFCTA2018\\SCAG_dataset_2020-02-27\\2_tour_extract\\wt_wkday'\n",
    "raw_dir = r'Q:\\Data\\Surveys\\HouseholdSurveys\\MTC-SFCTA2018\\SCAG_dataset_2020-02-27'\n",
    "\n",
    "out_file = r'out2\\%s_7_Persons_AvgTNCTrips.xlsx' %REG"
   ]
  },
  {
   "cell_type": "code",
   "execution_count": 5,
   "metadata": {},
   "outputs": [
    {
     "name": "stderr",
     "output_type": "stream",
     "text": [
      "C:\\ProgramData\\Anaconda3\\lib\\site-packages\\pandas\\core\\indexing.py:1745: SettingWithCopyWarning: \n",
      "A value is trying to be set on a copy of a slice from a DataFrame.\n",
      "Try using .loc[row_indexer,col_indexer] = value instead\n",
      "\n",
      "See the caveats in the documentation: https://pandas.pydata.org/pandas-docs/stable/user_guide/indexing.html#returning-a-view-versus-a-copy\n",
      "  isetter(ilocs[0], value)\n"
     ]
    }
   ],
   "source": [
    "## Process person records\n",
    "per_df = pd.read_csv(join(base_dir,'survey2018_precx.dat'), sep=' ')\n",
    "per_df = per_df[(per_df['psexpfac']>0)]\n",
    "per_df['count'] = 1\n",
    "\n",
    "## Process trip records\n",
    "tmp_df = pd.read_csv(join(raw_dir, 'ex_trip_wZones.csv'))\n",
    "tmp_df = tmp_df[['hh_id','person_num','trip_num','mode_type_imputed','mode_uber','mode_lyft']]\n",
    "tmp_df = tmp_df.rename(columns={'hh_id':'hhno','person_num':'pno','trip_num':'tsvid'})\n",
    "\n",
    "trip_df = pd.read_csv(join(base_dir,'survey2018_tripx.dat'), sep=' ')\n",
    "trip_df = link_dt(trip_df)\n",
    "trip_df = trip_df.loc[trip_df['mode']==9, ] # TNC trips only\n",
    "trip_df = trip_df.merge(tmp_df, how='left')\n",
    "trip_df = trip_df[trip_df['mode_type_imputed']!=4] #remove taxi trips\n",
    "\n",
    "trip_df['tnc_type'] = 3 # prem/other\n",
    "trip_df.loc[(trip_df['mode_uber']==1) | (trip_df['mode_lyft']==1), 'tnc_type'] = 1 # pooled\n",
    "trip_df.loc[(trip_df['mode_uber']==2) | (trip_df['mode_lyft']==2), 'tnc_type'] = 2 # regular\n",
    "\n",
    "trip_df = trip_df[(trip_df['trexpfac']>0)]\n",
    "trip_df = trip_df[(trip_df['otaz']>0) & (trip_df['dtaz']>0)]\n",
    "trip_df['count'] = 1"
   ]
  },
  {
   "cell_type": "code",
   "execution_count": 6,
   "metadata": {},
   "outputs": [],
   "source": [
    "col_dict = {\n",
    "    'tncmode': {\n",
    "        'desc': 'TNC_Mode',\n",
    "        'col': 'tnc_type',\n",
    "        'vals': range(1,4),\n",
    "        'labels': ['2_Pool','1_Reg','3_PremOth']\n",
    "    }\n",
    "}"
   ]
  },
  {
   "cell_type": "code",
   "execution_count": 7,
   "metadata": {},
   "outputs": [],
   "source": [
    "fname = out_file\n",
    "writer = pd.ExcelWriter(fname, engine='xlsxwriter')\n",
    "workbook = writer.book\n",
    "format1 = workbook.add_format({'num_format': '#,##0.0'})\n",
    "format2 = workbook.add_format({'num_format': '0.000'})"
   ]
  },
  {
   "cell_type": "code",
   "execution_count": 8,
   "metadata": {},
   "outputs": [],
   "source": [
    "from xlsxwriter.utility import xl_rowcol_to_cell\n",
    "\n",
    "row = 0\n",
    "sname = 'Weekday'\n",
    "d1_dict = col_dict['tncmode']\n",
    "PREF = 'Daily Avg TNC Trips'\n",
    "\n",
    "tab = prep_data_1d(trip_df, d1_dict['desc'],d1_dict['col'], 'trexpfac', d1_dict['vals'], d1_dict['labels'])\n",
    "\n",
    "def prep_avg(suff, num_per):\n",
    "    df = tab[[d1_dict['desc']+'_'+suff]]\n",
    "    df['persons_'+suff] = num_per\n",
    "    df['AvgDaily_TNCTrips'] = df[d1_dict['desc']+'_'+suff]/df['persons_'+suff]\n",
    "    return df\n",
    "\n",
    "title = PREF + ' (Unweighted)'\n",
    "out_tab = prep_avg('samp', len(per_df))\n",
    "row = write_to_excel(out_tab, sname, title, row)\n",
    "\n",
    "title = PREF + ' (Weighted)'\n",
    "out_tab = prep_avg('wtd', sum(per_df['psexpfac']))\n",
    "row = write_to_excel(out_tab, sname, title, row)\n",
    "\n",
    "tab_range = xl_rowcol_to_cell(0,1) + ':' + xl_rowcol_to_cell(0,2)\n",
    "_ = writer.sheets[sname].set_column(tab_range, 11, format1)\n",
    "tab_range = xl_rowcol_to_cell(0,3) + ':' + xl_rowcol_to_cell(0,3)\n",
    "_ = writer.sheets[sname].set_column(tab_range, 11, format2)"
   ]
  },
  {
   "cell_type": "code",
   "execution_count": 9,
   "metadata": {},
   "outputs": [],
   "source": [
    "writer.save()"
   ]
  }
 ],
 "metadata": {
  "kernelspec": {
   "display_name": "Python 3",
   "language": "python",
   "name": "python3"
  },
  "language_info": {
   "codemirror_mode": {
    "name": "ipython",
    "version": 3
   },
   "file_extension": ".py",
   "mimetype": "text/x-python",
   "name": "python",
   "nbconvert_exporter": "python",
   "pygments_lexer": "ipython3",
   "version": "3.7.6"
  }
 },
 "nbformat": 4,
 "nbformat_minor": 4
}
