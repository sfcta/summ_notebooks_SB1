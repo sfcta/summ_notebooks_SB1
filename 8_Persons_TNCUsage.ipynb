{
 "cells": [
  {
   "cell_type": "code",
   "execution_count": 1,
   "metadata": {},
   "outputs": [],
   "source": [
    "%run ..\\notebooks\\Util_func.ipynb"
   ]
  },
  {
   "cell_type": "code",
   "execution_count": 2,
   "metadata": {},
   "outputs": [],
   "source": [
    "# # Bay Area\n",
    "# REG = 'BayArea'\n",
    "# base_dir = r'Q:\\Data\\Surveys\\HouseholdSurveys\\MTC-SFCTA2018\\Processing_20200228\\2_tour_extract\\wt_wkday'\n",
    "# raw_dir = r'Q:\\Data\\Surveys\\HouseholdSurveys\\MTC-SFCTA2018\\Processing_20200228\\spatial_join'\n",
    "\n",
    "# out_file = r'out\\%s_8_Persons_TNCUsage.xlsx' %REG"
   ]
  },
  {
   "cell_type": "code",
   "execution_count": 3,
   "metadata": {},
   "outputs": [],
   "source": [
    "# # SANDAG\n",
    "# REG = 'SANDAG'\n",
    "# base_dir = r'Q:\\Data\\Surveys\\HouseholdSurveys\\MTC-SFCTA2018\\SANDAG\\2_tour_extract\\wt_wkday'\n",
    "# raw_dir = r'Q:\\Data\\Surveys\\HouseholdSurveys\\MTC-SFCTA2018\\SANDAG'\n",
    "\n",
    "# out_file = r'out2\\%s_8_Persons_TNCUsage.xlsx' %REG"
   ]
  },
  {
   "cell_type": "code",
   "execution_count": 4,
   "metadata": {},
   "outputs": [],
   "source": [
    "# SCAG\n",
    "REG = 'SCAG'\n",
    "base_dir = r'Q:\\Data\\Surveys\\HouseholdSurveys\\MTC-SFCTA2018\\SCAG_dataset_2020-02-27\\2_tour_extract\\wt_wkday'\n",
    "raw_dir = r'Q:\\Data\\Surveys\\HouseholdSurveys\\MTC-SFCTA2018\\SCAG_dataset_2020-02-27'\n",
    "\n",
    "out_file = r'out2\\%s_8_Persons_TNCUsage.xlsx' %REG"
   ]
  },
  {
   "cell_type": "code",
   "execution_count": 5,
   "metadata": {},
   "outputs": [],
   "source": [
    "## Process person records\n",
    "tmp_df = pd.read_csv(join(raw_dir, 'ex_person_wZones.csv'))\n",
    "if REG=='SANDAG' or REG=='SCAG':\n",
    "    tmp_df2 = pd.read_csv(join(raw_dir, 'ex2_person.tsv'), sep='\\t')\n",
    "    tmp_df = tmp_df.merge(tmp_df2[['hh_id','person_id','raceeth_new_imputed']], how='left')\n",
    "tmp_df = tmp_df[['hh_id','person_num','raceeth_new_imputed','income_imputed','gender','age','tnc_freq']]\n",
    "tmp_df = tmp_df.rename(columns={'raceeth_new_imputed':'raceeth','income_imputed':'hinc'})\n",
    "tmp_df = tmp_df.rename(columns={'hh_id':'hhno','person_num':'pno'})\n",
    "\n",
    "per_df = pd.read_csv(join(base_dir,'survey2018_precx.dat'), sep=' ')\n",
    "per_df = per_df.merge(tmp_df, how='left')\n",
    "per_df['count'] = 1\n",
    "per_df = per_df[per_df['psexpfac']>0]\n",
    "\n",
    "per_df.loc[per_df['gender']==997, 'gender'] = 5 #Other\n",
    "per_df.loc[per_df['gender']==999, 'gender'] = 6 #NoAnswer\n",
    "per_df.loc[per_df['gender'].isin([-9998, 995]), 'gender'] = 6 #Missing"
   ]
  },
  {
   "cell_type": "code",
   "execution_count": 6,
   "metadata": {},
   "outputs": [],
   "source": [
    "col_dict = {\n",
    "    'raceeth': {\n",
    "        'desc': 'RaceEth',\n",
    "        'col': 'raceeth',\n",
    "        'vals': range(1,6),\n",
    "        'labels': ['1_Hispanic','2_Black','3_Asian/PI','4_White','5_Other']\n",
    "    },\n",
    "    'hinc': {\n",
    "        'desc': 'HHInc',\n",
    "        'col': 'hinc',\n",
    "        'vals': range(1,9),\n",
    "        'labels': ['1_25K','2_25_50K','3_50_75K','4_75_100K','5_100_150K','6_150_200K','7_200_250K','8_250K']\n",
    "    },\n",
    "    'age': {\n",
    "        'desc': 'Age',\n",
    "        'col': 'age',\n",
    "        'vals': range(4,11),\n",
    "        'labels': ['18-24','25-34','35-44','45-54','55-64','65-74','75+']\n",
    "    },\n",
    "    'gender': {\n",
    "        'desc': 'Gend',\n",
    "        'col': 'gender',\n",
    "        'vals': range(1,7),\n",
    "        'labels': ['1_F','2_M','3_Trns','4_NBin','5_Oth','6_Miss']\n",
    "    },\n",
    "    'tnc_freq': {\n",
    "        'desc': 'TNCFreq',\n",
    "        'col': 'tnc_freq',\n",
    "        'vals': list(range(1,8)) + [995],\n",
    "        'labels': ['1_6-7dpwk','2_5dpwk','3_4dpwk','4_2-3dpwk','5_1dpwk','6_1-3dpmo','7_0-1dpmo','8_Never']\n",
    "    }\n",
    "}"
   ]
  },
  {
   "cell_type": "code",
   "execution_count": 7,
   "metadata": {},
   "outputs": [],
   "source": [
    "fname = out_file\n",
    "writer = pd.ExcelWriter(fname, engine='xlsxwriter')\n",
    "workbook = writer.book\n",
    "format1 = workbook.add_format({'num_format': '#,##0.0'})"
   ]
  },
  {
   "cell_type": "code",
   "execution_count": 8,
   "metadata": {},
   "outputs": [],
   "source": [
    "from xlsxwriter.utility import xl_rowcol_to_cell\n",
    "\n",
    "wt_cols = ['count', 'psexpfac']\n",
    "wt_desc = ['(Unweighted)', '(Weighted)']\n",
    "\n",
    "d1_dict = col_dict['tnc_freq']\n",
    "for key in ['raceeth', 'hinc', 'age', 'gender']:\n",
    "    d2_dict = col_dict[key]\n",
    "    row = 0\n",
    "    sname = d2_dict['desc']\n",
    "    \n",
    "    for wc, wd in zip(wt_cols, wt_desc):\n",
    "        title = 'Persons by ' + d2_dict['desc'] + ' and ' + d1_dict['desc'] + ' ' + wd\n",
    "        tab, tab_fmt = prep_data_2d(per_df,d1_dict['col'],d1_dict['vals'],d1_dict['labels'],\n",
    "                                d2_dict['col'],d2_dict['vals'],d2_dict['labels'],wc)\n",
    "        row = write_to_excel(tab.astype('float64'), sname, title, row)\n",
    "\n",
    "        if wc == 'count':\n",
    "            tab2 = tab.copy()\n",
    "        else:\n",
    "            tab2.iloc[:-1,:-1] = tab.iloc[:-1,:-1]\n",
    "\n",
    "        title = 'Column Shares by ' + d2_dict['desc'] + ' and ' + d1_dict['desc'] + ' ' + wd\n",
    "        row = write_to_excel(getSharesIdx(tab.copy()), sname, title, row)\n",
    "\n",
    "        title = 'Column Shares 95% CI by ' + d2_dict['desc'] + ' and ' + d1_dict['desc'] + ' ' + wd\n",
    "        row = write_to_excel(getSharesIdxCI95(tab2.copy()), sname, title, row)\n",
    "    tab_range = xl_rowcol_to_cell(row,1) + ':' + xl_rowcol_to_cell(row,tab.shape[1])\n",
    "    _ = writer.sheets[sname].set_column(tab_range, 11, format1)    "
   ]
  },
  {
   "cell_type": "code",
   "execution_count": 9,
   "metadata": {},
   "outputs": [],
   "source": [
    "writer.save()"
   ]
  }
 ],
 "metadata": {
  "kernelspec": {
   "display_name": "Python 3",
   "language": "python",
   "name": "python3"
  },
  "language_info": {
   "codemirror_mode": {
    "name": "ipython",
    "version": 3
   },
   "file_extension": ".py",
   "mimetype": "text/x-python",
   "name": "python",
   "nbconvert_exporter": "python",
   "pygments_lexer": "ipython3",
   "version": "3.7.6"
  }
 },
 "nbformat": 4,
 "nbformat_minor": 4
}
